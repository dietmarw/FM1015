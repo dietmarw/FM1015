{
 "cells": [
  {
   "cell_type": "markdown",
   "metadata": {
    "collapsed": true
   },
   "source": [
    "# DynMod, Problem solutions"
   ]
  },
  {
   "cell_type": "markdown",
   "metadata": {
    "collapsed": true
   },
   "source": [
    "#### Bernt Lie, University College of Southeast Norway"
   ]
  },
  {
   "cell_type": "markdown",
   "metadata": {},
   "source": [
    "### Basic import and definitions"
   ]
  },
  {
   "cell_type": "code",
   "execution_count": 1,
   "metadata": {
    "collapsed": true
   },
   "outputs": [],
   "source": [
    "from OMPython import ModelicaSystem\n",
    "import numpy as np\n",
    "import numpy.random as nr\n",
    "%matplotlib inline\n",
    "import matplotlib.pyplot as plt\n",
    "import pandas as pd\n",
    "LW1 = 2.5\n",
    "LW2 = LW1/2\n",
    "Cb1 = (0.3,0.3,1)\n",
    "Cb2 = (0.7,0.7,1)\n",
    "Cg1 = (0,0.6,0)\n",
    "Cg2 = (0.5,0.8,0.5)\n",
    "Cr1 = \"Red\"\n",
    "Cr2 = (1,0.5,0.5)\n",
    "LS1 = \"solid\"\n",
    "LS2 = \"dotted\"\n",
    "figpath = \"figs/\""
   ]
  },
  {
   "cell_type": "markdown",
   "metadata": {},
   "source": [
    "### Controlled reactor, species balance"
   ]
  },
  {
   "cell_type": "markdown",
   "metadata": {},
   "source": [
    "#### Modelica code, file SpeciesControlledReactor"
   ]
  },
  {
   "cell_type": "code",
   "execution_count": 2,
   "metadata": {},
   "outputs": [
    {
     "name": "stdout",
     "output_type": "stream",
     "text": [
      "Overwriting ProblemSolutionsCases/SpeciesControlledReactor.mo\n"
     ]
    }
   ],
   "source": [
    "%%writefile ProblemSolutionsCases/SpeciesControlledReactor.mo\n",
    "package SpeciesControlledReactor\n",
    "  // Package for simulating controlled reactor\n",
    "  // author: \tBernt Lie\n",
    "  //\t\t\tUniversity of Southeast Norway\n",
    "  //\t\t\tMay 15, 2017\n",
    "  //\n",
    "  model ModControlledReactor\n",
    "    // Model of controlled reactor, problems for species balance\n",
    "    // author: \tBernt Lie\n",
    "    //\t\t\tUniversity of Southeast Norway\n",
    "    //\t\t\tMay 15, 2017\n",
    "\t//\n",
    "\t// Constants\n",
    "\tconstant Real g = 9.81 \"Acceleration of gravity, m/s2\";\n",
    "\t// Parameters\n",
    "\tparameter Real A = 10 \"Vessel surface area, m2\";\n",
    "\tparameter Real k = 1 \"Reaction rate constant, 1/h\";\n",
    "\tparameter Real KvA = 1 \"Species A feed valve constant\";\n",
    "\tparameter Real Kve = KvA \"Effluent valve constant\";\n",
    "\tparameter Real pA = 3 \"Feed pressure species A, bar\";\n",
    "\tparameter Real pa = 1 \"Atmospheric pressure, bar\";\n",
    "\tparameter Real rho = 1e3 \"Density of liquid, kg/L\";\n",
    "\tparameter Real Kc = 100 \"Concentration controller gain\";\n",
    "\tparameter Real KL = Kc \"Level controller gain\";\t\n",
    "\tparameter Real ucs = 0 \"steady state concentration control input\";\n",
    "\tparameter Real uLs = 0 \"steady state level control input\";\n",
    "\t// Controller referance values\n",
    "\tparameter Real hr = 2 \"Level reference, m\";\n",
    "\tparameter Real cAr = 1e-2 \"Concentration reference for species A, mol/m3\";\n",
    "\t// Initial state parameters\n",
    "\tparameter Real h0 = 2.11 \"Initial level, m\";\n",
    "\tparameter Real cA0 = 1.5e-2 \"Initial concentration of A, mol/m3\";\n",
    "\t// Declaring variables\n",
    "\t// -- states\n",
    "\tReal h(start=h0,fixed=true);\n",
    "\tReal cA(start=cA0,fixed=true);\n",
    "\tReal VdiA \"Influent flow rate of species A, m3/h\";\n",
    "\tReal Vde \"Effluent flow rate, m3/h\";\n",
    "\tReal uc \"Concentration control input\";\n",
    "\tReal uL \"Level control input\";\n",
    "\t// -- input flow\n",
    "\tReal Vdic = 50 \"Influent flow of water/catalyst, m3/h\";\n",
    "\tReal cAi \"Influent concentration of A, mol/m3\";\n",
    "  // Equations constituting the model\n",
    "  equation\n",
    "\t// Concentration input\n",
    "\tcAi = if time < 1 then 5 else 2;\n",
    "\t// Controllers\n",
    "\tuc = max(0,ucs + Kc*(cAr-cA));\n",
    "\tuL = max(0,uLs + KL*(h-hr));\n",
    "\t// Valves\n",
    "\tVdiA = KvA*sqrt((pA-pa)/rho);\n",
    "\tVde = Kve*uL*sqrt(g*h);\n",
    "\t// Differential equations\n",
    "\tder(h) = (Vdic+VdiA-Vde)/A;\n",
    "\tder(cA) = VdiA*cAi/(A*h) - (VdiA+Vdic)*cA/(A*h) - k*cA;\n",
    "  end ModControlledReactor;\n",
    "  // End package\n",
    "end SpeciesControlledReactor;"
   ]
  },
  {
   "cell_type": "markdown",
   "metadata": {},
   "source": [
    "#### Instantiating model from ModControlledReactor"
   ]
  },
  {
   "cell_type": "code",
   "execution_count": 3,
   "metadata": {},
   "outputs": [
    {
     "name": "stderr",
     "output_type": "stream",
     "text": [
      "2017-08-07 15:38:55,322 - OMCSession - INFO - OMC Server is up and running at file:///c:/users/bernt_~1/appdata/local/temp/openmodelica.objid.abdef28ffc23490ea14a17ce7c729446\n"
     ]
    }
   ],
   "source": [
    "cr = ModelicaSystem(\"ProblemSolutionsCases/SpeciesControlledReactor.mo\",\"SpeciesControlledReactor.ModControlledReactor\")"
   ]
  },
  {
   "cell_type": "code",
   "execution_count": 4,
   "metadata": {
    "collapsed": true
   },
   "outputs": [],
   "source": [
    "cr.setSimulationOptions(stopTime=3,stepSize=1e-2)"
   ]
  },
  {
   "cell_type": "code",
   "execution_count": 5,
   "metadata": {
    "collapsed": true
   },
   "outputs": [],
   "source": [
    "cr.simulate()"
   ]
  },
  {
   "cell_type": "code",
   "execution_count": 6,
   "metadata": {},
   "outputs": [],
   "source": [
    "tm,h,cA = cr.getSolutions(\"time\",\"h\",\"cA\")"
   ]
  },
  {
   "cell_type": "code",
   "execution_count": 7,
   "metadata": {},
   "outputs": [
    {
     "data": {
      "image/png": "[encoded data removed]",
      "text/plain": [
       "<matplotlib.figure.Figure at 0xaa0cfd0>"
      ]
     },
     "metadata": {},
     "output_type": "display_data"
    }
   ],
   "source": [
    "plt.subplot(2,1,1)\n",
    "plt.plot(tm,h,linewidth=LW1,color=Cb1,label=r\"$h$\")\n",
    "plt.title(r\"Controlled reactor\")\n",
    "plt.ylabel(r\"$h$ [m]\")\n",
    "plt.grid()\n",
    "plt.xlim(0,3)\n",
    "plt.subplot(2,1,2)\n",
    "plt.plot(tm,cA,linewidth=LW1,color=Cr1,label=r\"$c_\\mathrm{A}$\")\n",
    "plt.xlabel(r\"time $t$ [h]\")\n",
    "plt.ylabel(r\"$c_\\mathrm{A}$ [mol/m3]\")\n",
    "plt.grid()\n",
    "plt.xlim(0,3)\n",
    "figfile = \"controlledReactorSim.pdf\"\n",
    "plt.savefig(figpath+figfile)\n",
    "plt.savefig(figpath+\"controlledReactorSim.svg\")"
   ]
  },
  {
   "cell_type": "markdown",
   "metadata": {
    "collapsed": true
   },
   "source": [
    "### Controlled water pumping, momentum balance"
   ]
  },
  {
   "cell_type": "markdown",
   "metadata": {},
   "source": [
    "#### Modelica code, file MomentumWaterPump"
   ]
  },
  {
   "cell_type": "code",
   "execution_count": 8,
   "metadata": {},
   "outputs": [
    {
     "name": "stdout",
     "output_type": "stream",
     "text": [
      "Overwriting ProblemSolutionsCases/MomentumWaterPump.mo\n"
     ]
    }
   ],
   "source": [
    "%%writefile ProblemSolutionsCases/MomentumWaterPump.mo\n",
    "package MomentumWaterPump\n",
    "  // Package for simulating water pump system\n",
    "  // author: \tBernt Lie\n",
    "  //\t\t\tUniversity of Southeast Norway\n",
    "  //\t\t\tMay 15, 2017\n",
    "  //\n",
    "  model ModWaterPump\n",
    "    // Model of water pump system, problems for momentum balance\n",
    "    // author: \tBernt Lie\n",
    "    //\t\t\tUniversity of Southeast Norway\n",
    "    //\t\t\tMay 15, 2017\n",
    "\t//\n",
    "\t// Parameters\n",
    "\tparameter Real A = 10 \"Cross sectional area of vessel, m2\";\n",
    "\tparameter Real Ap = 1e-2 \"cross sectional area of pipe, m2\";\n",
    "\tparameter Real mp = 10 \"Mass of liquid in pipe, tonne\";\n",
    "\tparameter Real kappa_p = 1e2*3600^2 \"Conversion from bar to tonne-based pressure\";\n",
    "\tparameter Real c = 8e-6*kappa_p \"Friction coefficient, bar.h2/m4\";\n",
    "\tparameter Real c1 = 3e-4*kappa_p \"Constant in pump characteristic, bar\";\n",
    "\tparameter Real c2 = 4e-8*kappa_p \"Constant in pump characteristic, bar.h2/m6\";\n",
    "\tparameter Real Kp = 100 \"Proportional gain in controller, 1/m\";\n",
    "\tparameter Real us = 0 \"Constant offset in controller\";\n",
    "\t// Controller referance value\n",
    "\tparameter Real hr = 2 \"Level reference, m\";\n",
    "\t// Initial state parameters\n",
    "\tparameter Real h0 = 1.9 \"Initial level, m\";\n",
    "\tparameter Real Vdi0 = 2 \"Influent flow rate, m3/h\";\n",
    "\t// Declaring variables\n",
    "\t// -- states\n",
    "\tReal h(start=h0,fixed=true);\n",
    "\tReal Vdi(start=Vdi0,fixed=true);\n",
    "\t// -- disturbance flow\n",
    "\tReal Vde \"Effluent flow rate, m3/h\";\n",
    "\t// -- algebraic variables\n",
    "\tReal dp \"Pump differential presure, bar\";\n",
    "\tReal Ff \"Pipe friction force, N\";\n",
    "\t// -- control signal\n",
    "\tReal u \"Level control input\";\n",
    "  // Equations constituting the model\n",
    "  equation\n",
    "\t// Effluent flow disturbance\n",
    "\tVde = if time < 2 then 2 else 2-0.5;\n",
    "\t// Controller\n",
    "\tu = max(0,us + Kp*(hr-h));\n",
    "\t// Pump differential pressure\n",
    "\tdp = u*(c1-c2*Vdi^2);\n",
    "\t// Friction force\n",
    "\tFf = c*Vdi^2;\n",
    "\t// Differential equations\n",
    "\tder(h) = (Vdi - Vde)/A;\n",
    "\tder(Vdi) = Ap*(Ap*dp-Ff)/mp;\n",
    "  end ModWaterPump;\n",
    "  // End package\n",
    "end MomentumWaterPump;"
   ]
  },
  {
   "cell_type": "markdown",
   "metadata": {},
   "source": [
    "#### Instantiating model from ModWaterPump"
   ]
  },
  {
   "cell_type": "code",
   "execution_count": 9,
   "metadata": {},
   "outputs": [
    {
     "name": "stderr",
     "output_type": "stream",
     "text": [
      "2017-08-07 15:38:58,655 - OMCSession - INFO - OMC Server is up and running at file:///c:/users/bernt_~1/appdata/local/temp/openmodelica.objid.2c433a5e3c9e424b87efb496188e693d\n"
     ]
    }
   ],
   "source": [
    "wp = ModelicaSystem(\"ProblemSolutionsCases/MomentumWaterPump.mo\",\"MomentumWaterPump.ModWaterPump\")"
   ]
  },
  {
   "cell_type": "code",
   "execution_count": 10,
   "metadata": {
    "collapsed": true
   },
   "outputs": [],
   "source": [
    "wp.setSimulationOptions(stopTime=5,stepSize=1e-2)"
   ]
  },
  {
   "cell_type": "code",
   "execution_count": 11,
   "metadata": {
    "collapsed": true
   },
   "outputs": [],
   "source": [
    "wp.simulate()"
   ]
  },
  {
   "cell_type": "code",
   "execution_count": 12,
   "metadata": {
    "collapsed": true
   },
   "outputs": [],
   "source": [
    "tm,h,Vdi = wp.getSolutions(\"time\",\"h\",\"Vdi\")"
   ]
  },
  {
   "cell_type": "code",
   "execution_count": 13,
   "metadata": {},
   "outputs": [
    {
     "data": {
      "image/png": "[encoded data removed]",
      "text/plain": [
       "<matplotlib.figure.Figure at 0xcda8710>"
      ]
     },
     "metadata": {},
     "output_type": "display_data"
    }
   ],
   "source": [
    "plt.subplot(2,1,1)\n",
    "plt.plot(tm,h,linewidth=LW1,color=Cb1,label=r\"$h$\")\n",
    "plt.title(r\"Controlled water pumping\")\n",
    "plt.ylabel(r\"$h$ [m]\")\n",
    "plt.grid()\n",
    "plt.xlim(0,5)\n",
    "plt.subplot(2,1,2)\n",
    "plt.plot(tm,Vdi,linewidth=LW1,color=Cr1,label=r\"$\\dot{V}_\\mathrm{i}$\")\n",
    "plt.xlabel(r\"time $t$ [h]\")\n",
    "plt.ylabel(r\"$\\dot{V}_\\mathrm{i}$ [m3/h]\")\n",
    "plt.grid()\n",
    "plt.xlim(0,5)\n",
    "figfile = \"WaterPumpSystemSim.pdf\"\n",
    "plt.savefig(figpath+figfile)\n",
    "plt.savefig(figpath+\"WaterPumpSystemSim.svg\")"
   ]
  },
  {
   "cell_type": "markdown",
   "metadata": {},
   "source": [
    "### Controlled heated tank with varying liquid level"
   ]
  },
  {
   "cell_type": "markdown",
   "metadata": {},
   "source": [
    "#### Modelica code, file EnergyHeatedTank"
   ]
  },
  {
   "cell_type": "code",
   "execution_count": 14,
   "metadata": {},
   "outputs": [
    {
     "name": "stdout",
     "output_type": "stream",
     "text": [
      "Overwriting ProblemSolutionsCases/EnergyHeatedTank.mo\n"
     ]
    }
   ],
   "source": [
    "%%writefile ProblemSolutionsCases/EnergyHeatedTank.mo\n",
    "package EnergyHeatedTank\n",
    "  // Package for simulating heated tank with varying liquid level\n",
    "  // author: \tBernt Lie\n",
    "  //\t\t\tUniversity of Southeast Norway\n",
    "  //\t\t\tMay 15, 2017\n",
    "  //\n",
    "  model ModHeatedTank\n",
    "    // Model of heated tank with varying liquid level\n",
    "    // author: \tBernt Lie\n",
    "    //\t\t\tUniversity of Southeast Norway\n",
    "    //\t\t\tMay 15, 2017\n",
    "\t//\n",
    "\t// Constants\n",
    "\tconstant Real g = 9.81 \"Acceleration of gravity, m/s2\";\n",
    "\tconstant Real PI = 3.141592654 \"Math constant PI\";\n",
    "\t// Parameters\n",
    "\tparameter Real A = 10 \"Cross sectional area of vessel, m2\";\n",
    "\tparameter Real D = 0.5 \"Diameter of heat element, m\";\n",
    "\tparameter Real A1 = A-PI*D^2/4 \"Effective cross sectional area, m2\";\n",
    "\tparameter Real Kv = 1 \"Valve constant, m3/h\";\n",
    "\tparameter Real rho = 1e3 \"Density of liquid, kg/m3\";\n",
    "\tparameter Real kappa_p = 1.01e5 \"Conversion factor, bar to Pa\";\n",
    "\tparameter Real pa = 1*kappa_p \"Atmospheric pressure, bar\";\n",
    "\tparameter Real Uh = 3e3 \"Overall heat transfer coefficient, J/(K.m2.h)\";\n",
    "\tparameter Real cp = 4200 \"Specific heat capacity of liquid, J/kg/K\";\n",
    "\tparameter Real us = 0 \"Fixed controller offset\";\n",
    "\tparameter Real Kp = 1 \"Controller proportional gain, 1/m\";\n",
    "\t// Initial state parameters\n",
    "\tparameter Real h0 = 2 \"Initial level, m\";\n",
    "\tparameter Real T0 = 350 \"Initial temperature, K\";\n",
    "\t// Variables\n",
    "\t// -- states\n",
    "\tReal h(start=h0,fixed=true) \"Level in tank, m\";\n",
    "\tReal T(start=T0,fixed=true) \"Temperature in tank, K\";\n",
    "\t// -- reference value\n",
    "\tReal hr = 2 \"Reference value for level, m\";\n",
    "\t// -- inputs\n",
    "\tReal Vdi = 50 \"Influent volumetric flow, m3/h\";\n",
    "\tReal Vde \"Effluent volumetric flow rate, m3/h\";\n",
    "\tReal Ti = 300 \"Influent temperature, K\";\n",
    "\tReal Th = 450 \"Heat element temperature, K\";\n",
    "\t\tReal u \"Level control input\";\n",
    "  // Equations constituting the model\n",
    "  equation\n",
    "\t// Algebraic equations\n",
    "\tVde = Kv*u*sqrt(rho*g*h/pa);\n",
    "\tu = us - Kp*(hr-h);\n",
    "\t// Differential equations\n",
    "\tder(h) = (Vdi - Vde)/A1;\n",
    "\tder(T) = Vdi*(Ti-T)/(A1*h) + Uh*PI*D*(Th-T)/(rho*cp*A1);\n",
    "  end ModHeatedTank;\n",
    "  // End package\n",
    "end EnergyHeatedTank;"
   ]
  },
  {
   "cell_type": "markdown",
   "metadata": {},
   "source": [
    "#### Instantiating model from ModHeatedTank"
   ]
  },
  {
   "cell_type": "code",
   "execution_count": 15,
   "metadata": {},
   "outputs": [
    {
     "name": "stderr",
     "output_type": "stream",
     "text": [
      "2017-08-07 15:39:02,075 - OMCSession - INFO - OMC Server is up and running at file:///c:/users/bernt_~1/appdata/local/temp/openmodelica.objid.6e1e329dd0cc4e7b9b6d2a78a834fbb5\n"
     ]
    }
   ],
   "source": [
    "ht = ModelicaSystem(\"ProblemSolutionsCases/EnergyHeatedTank.mo\",\"EnergyHeatedTank.ModHeatedTank\")"
   ]
  },
  {
   "cell_type": "code",
   "execution_count": 16,
   "metadata": {
    "collapsed": true
   },
   "outputs": [],
   "source": [
    "ht.setSimulationOptions(stopTime=15,stepSize=3e-2)"
   ]
  },
  {
   "cell_type": "code",
   "execution_count": 17,
   "metadata": {},
   "outputs": [],
   "source": [
    "ht.simulate()"
   ]
  },
  {
   "cell_type": "code",
   "execution_count": 18,
   "metadata": {
    "collapsed": true
   },
   "outputs": [],
   "source": [
    "tm,h,T = ht.getSolutions(\"time\",\"h\",\"T\")"
   ]
  },
  {
   "cell_type": "code",
   "execution_count": 19,
   "metadata": {},
   "outputs": [
    {
     "data": {
      "image/png": "[encoded data removed]",
      "text/plain": [
       "<matplotlib.figure.Figure at 0xbb324e0>"
      ]
     },
     "metadata": {},
     "output_type": "display_data"
    }
   ],
   "source": [
    "plt.subplot(2,1,1)\n",
    "plt.plot(tm,h,linewidth=LW1,color=Cb1,label=r\"$h$\")\n",
    "plt.title(r\"Controlled heated tank\")\n",
    "plt.ylabel(r\"$h$ [m]\")\n",
    "plt.grid()\n",
    "plt.xlim(0,15)\n",
    "plt.subplot(2,1,2)\n",
    "plt.plot(tm,T-273.15,linewidth=LW1,color=Cr1,label=r\"$T$\")\n",
    "plt.xlabel(r\"time $t$ [h]\")\n",
    "plt.ylabel(r\"$T$ [${}^\\circ$C]\")\n",
    "plt.grid()\n",
    "plt.xlim(0,15)\n",
    "figfile = \"heatedWaterLevelDependentSim.pdf\"\n",
    "plt.savefig(figpath+figfile)\n",
    "plt.savefig(figpath+\"heatedWaterLevelDependentSim.svg\")"
   ]
  },
  {
   "cell_type": "markdown",
   "metadata": {},
   "source": [
    "### Analysis of reactor with heat exchanger"
   ]
  },
  {
   "cell_type": "markdown",
   "metadata": {},
   "source": [
    "#### Modelica code, file AnalysisReactorHeatExchanger"
   ]
  },
  {
   "cell_type": "code",
   "execution_count": 20,
   "metadata": {},
   "outputs": [
    {
     "name": "stdout",
     "output_type": "stream",
     "text": [
      "Overwriting ProblemSolutionsCases/AnalysisReactorHeatExchanger.mo\n"
     ]
    }
   ],
   "source": [
    "%%writefile ProblemSolutionsCases/AnalysisReactorHeatExchanger.mo\n",
    "package AnalysisReactorHeatExchanger\n",
    "  // Package for analysis of reactor with heat exchanger\n",
    "  // author: \tBernt Lie\n",
    "  //\t\t\tUniversity of Southeast Norway\n",
    "  //\t\t\tMay 15, 2017\n",
    "  //\n",
    "  model SimReactorHeatExchanger\n",
    "    // Simulation of AnalysisReactorHeatExchanger\n",
    "    // author: \tBernt Lie\n",
    "    //\t\t\tUniversity of Southeast Norway\n",
    "    //\t\t\tMay 15, 2017\n",
    "\t//\n",
    "  ModReactorHeatExchanger mcn, mcu, mcd, mcu3, mcu4, mcu5;\n",
    "  Real Vdc_n, Vdc_u, Vdc_d, Vdc_u3, Vdc_u4, Vdc_u5;\n",
    "  Real cA_n, cA_u, cA_d, cA_u3, cA_u4, cA_u5;\n",
    "  Real T_n, T_u, T_d, T_u3, T_u4, T_u5;\n",
    "  equation\n",
    "    Vdc_n = 100;\n",
    "\tVdc_u = if time < 1 then Vdc_n else Vdc_n*1.1;\n",
    "\tVdc_d = if time < 1 then Vdc_n else Vdc_n*0.9;\n",
    "\tVdc_u3 = if time < 1 then Vdc_n else Vdc_n*1.13;\n",
    "\tVdc_u4 = if time < 1 then Vdc_n else Vdc_n*1.14;\n",
    "\tVdc_u5 = if time < 1 then Vdc_n else Vdc_n*1.15;\n",
    "\t//\n",
    "\tmcn.Vdc = Vdc_n;\n",
    "\tmcu.Vdc = Vdc_u;\n",
    "\tmcd.Vdc = Vdc_d;\n",
    "\tmcu3.Vdc = Vdc_u3;\n",
    "\tmcu4.Vdc = Vdc_u4;\n",
    "\tmcu5.Vdc = Vdc_u5;\n",
    "\t//\n",
    "\tcA_n = mcn.cA;\n",
    "\tcA_u = mcu.cA;\n",
    "\tcA_d = mcd.cA;\n",
    "\tT_n = mcn.T;\n",
    "\tT_u = mcu.T;\n",
    "\tT_d = mcd.T;\n",
    "\t//\n",
    "\tcA_u3 = mcu3.cA;\n",
    "\tcA_u4 = mcu4.cA;\n",
    "\tcA_u5 = mcu5.cA;\n",
    "\tT_u3 = mcu3.T;\n",
    "\tT_u4 = mcu4.T;\n",
    "\tT_u5 = mcu5.T;\n",
    "  end SimReactorHeatExchanger;\n",
    "  //\n",
    "  model ModReactorHeatExchanger\n",
    "    // Model of AnalysisReactorHeatExchanger\n",
    "    // author: \tBernt Lie\n",
    "    //\t\t\tUniversity of Southeast Norway\n",
    "    //\t\t\tMay 15, 2017\n",
    "\t//\n",
    "\t// Parameters\n",
    "\tparameter Real V = 100. \"Vessel volume, L\";\n",
    "\tparameter Real rho = 1.e3 \"Liquid density, g/L\";\n",
    "\tparameter Real rhoc = rho \"Coolant liquid density, g/L\";\n",
    "\tparameter Real cp = 1. \"Liquid specific heat capacity, cal/(g.K)\";\n",
    "\tparameter Real cpc = cp \"Coolant liquid specific heat capacity, cal/(g.K)\";\n",
    "\tparameter Real k0 = 7.2e10 \"Reaction pre-exponential factor, 1/min\";\n",
    "\tparameter Real EdR = 9.98e3 \"Reaction activation 'temperature', K\";\n",
    "\tparameter Real m = 1 \"Reaction order,-\";\n",
    "\tparameter Real dHr = -2.e5 \"Reaction enthalpy, cal/mol\";\n",
    "\tparameter Real UOmL = 7.e5 \"Heat transfer coefficient, cal/(min.K)\";\n",
    "\t// Initial state parameters\n",
    "\tparameter Real cA0 = 8.235e-2 \"Initial concentration, mol/L\";\n",
    "\tparameter Real T0 = 441.81 \"Initial temperature, K\";\n",
    "\t// Variables\n",
    "\t// -- differential variables\n",
    "\tReal cA(start=cA0, fixed=true) \"Concentration, mol/L\";\n",
    "\tReal T(start=T0, fixed=true) \"Temperature, K\";\n",
    "\t// -- auxiliary variables\n",
    "\tReal r \"Reaction rate\";\n",
    "\tReal Qd \"Heat rate\";\n",
    "\t// -- fixed input\n",
    "\tReal Vd = 100. \"Volumetric through-flow, L/min\";\n",
    "\tReal cAi = 1. \"Influent concentration of A, mol/L\";\n",
    "\tReal Ti = 350. \"Influent temperature, K\";\n",
    "\tReal Tci = 350. \"Influent temperature, K\";\n",
    "\t// External input\n",
    "\tinput Real Vdc \"Coolant flow rate, L/min\";\n",
    "  // Equations constituting the model\n",
    "  equation\n",
    "\t// Algebraic equations\n",
    "\tr = k0*exp(-EdR/T)*cA^m;\n",
    "\tQd = Vdc*rhoc*cpc*(1-exp(-UOmL/(rhoc*cpc*Vdc)))*(Tci-T);\n",
    "\t// Differential equations\n",
    "\tder(cA) = Vd*(cAi-cA)/V-m*r;\n",
    "\tder(T) = Vd*(Ti-T)/V + (-dHr)*r/(rho*cp) + Qd/(rho*V*cp);\n",
    "  end ModReactorHeatExchanger;\n",
    "  // End package\n",
    "end AnalysisReactorHeatExchanger;"
   ]
  },
  {
   "cell_type": "markdown",
   "metadata": {},
   "source": [
    "#### Instantiating model from SimReactorHeatExchanger"
   ]
  },
  {
   "cell_type": "code",
   "execution_count": 21,
   "metadata": {},
   "outputs": [
    {
     "name": "stderr",
     "output_type": "stream",
     "text": [
      "2017-08-07 15:39:05,042 - OMCSession - INFO - OMC Server is up and running at file:///c:/users/bernt_~1/appdata/local/temp/openmodelica.objid.575a711c99354a05874c0bfaa5f62bb0\n"
     ]
    }
   ],
   "source": [
    "rx = ModelicaSystem(\"ProblemSolutionsCases/AnalysisReactorHeatExchanger.mo\",\"AnalysisReactorHeatExchanger.SimReactorHeatExchanger\")"
   ]
  },
  {
   "cell_type": "code",
   "execution_count": 22,
   "metadata": {
    "collapsed": true
   },
   "outputs": [],
   "source": [
    "rx.setSimulationOptions(stopTime=8,stepSize=2e-2)"
   ]
  },
  {
   "cell_type": "code",
   "execution_count": 23,
   "metadata": {
    "collapsed": true
   },
   "outputs": [],
   "source": [
    "rx.simulate()"
   ]
  },
  {
   "cell_type": "code",
   "execution_count": 24,
   "metadata": {},
   "outputs": [],
   "source": [
    "tm,cAn,cAu,cAd,Tn,Tu,Td = rx.getSolutions(\"time\",\"cA_n\",\"cA_u\",\"cA_d\",\"T_n\",\"T_u\",\"T_d\")"
   ]
  },
  {
   "cell_type": "code",
   "execution_count": 25,
   "metadata": {},
   "outputs": [
    {
     "data": {
      "image/png": "[encoded data removed]",
      "text/plain": [
       "<matplotlib.figure.Figure at 0xa9fe828>"
      ]
     },
     "metadata": {},
     "output_type": "display_data"
    }
   ],
   "source": [
    "plt.subplot(2,1,1)\n",
    "plt.plot(tm,cAn,linewidth=LW1,color=Cg1,label=r\"$\\dot{V}_\\mathrm{c}$\")\n",
    "plt.plot(tm,cAu,linewidth=LW1,color=Cb1,label=r\"$1.1\\cdot \\dot{V}_\\mathrm{c}$\")\n",
    "plt.plot(tm,cAd,linewidth=LW1,color=Cr1,label=r\"$0.9\\cdot \\dot{V}_\\mathrm{c}$\")\n",
    "plt.title(r\"Reactor: cooling flow sensitivity\")\n",
    "plt.ylabel(r\"$c_\\mathrm{A}$ [mol/L]\")\n",
    "plt.grid()\n",
    "plt.legend(ncol=3)\n",
    "plt.xlim(0,8)\n",
    "plt.subplot(2,1,2)\n",
    "plt.plot(tm,Tn-273.15,linewidth=LW1,color=Cg1,label=r\"$\\dot{V}_\\mathrm{c}$\")\n",
    "plt.plot(tm,Tu-273.15,linewidth=LW1,color=Cb1,label=r\"$1.1\\cdot \\dot{V}_\\mathrm{c}$\")\n",
    "plt.plot(tm,Td-273.15,linewidth=LW1,color=Cr1,label=r\"$0.9\\cdot \\dot{V}_\\mathrm{c}$\")\n",
    "plt.xlabel(r\"time $t$ [min]\")\n",
    "plt.ylabel(r\"$T$ [${}^\\circ$C]\")\n",
    "plt.grid()\n",
    "plt.legend(ncol=3)\n",
    "plt.xlim(0,8)\n",
    "figfile = \"distributedCoolingReactorAnal.pdf\"\n",
    "plt.savefig(figpath+figfile)"
   ]
  },
  {
   "cell_type": "code",
   "execution_count": 26,
   "metadata": {
    "collapsed": true
   },
   "outputs": [],
   "source": [
    "cAu3,cAu4,cAu5,Tu3,Tu4,Tu5 = rx.getSolutions(\"cA_u3\",\"cA_u4\",\"cA_u5\",\"T_u3\",\"T_u4\",\"T_u5\")"
   ]
  },
  {
   "cell_type": "code",
   "execution_count": 27,
   "metadata": {},
   "outputs": [
    {
     "data": {
      "image/png": "[encoded data removed]",
      "text/plain": [
       "<matplotlib.figure.Figure at 0xa9fe710>"
      ]
     },
     "metadata": {},
     "output_type": "display_data"
    }
   ],
   "source": [
    "plt.subplot(2,1,1)\n",
    "plt.plot(tm,cAu3,linewidth=LW1,color=Cg1,label=r\"$1.13\\cdot \\dot{V}_\\mathrm{c}$\")\n",
    "plt.plot(tm,cAu4,linewidth=LW1,color=Cb1,label=r\"$1.14\\cdot \\dot{V}_\\mathrm{c}$\")\n",
    "plt.plot(tm,cAu5,linewidth=LW1,color=Cr1,label=r\"$1.15\\cdot \\dot{V}_\\mathrm{c}$\")\n",
    "plt.title(r\"Reactor: cooling flow sensitivity\")\n",
    "plt.ylabel(r\"$c_\\mathrm{A}$ [mol/L]\")\n",
    "plt.grid()\n",
    "plt.legend()\n",
    "plt.xlim(0,8)\n",
    "plt.subplot(2,1,2)\n",
    "plt.plot(tm,Tu3-273.15,linewidth=LW1,color=Cg1,label=r\"$1.13\\cdot \\dot{V}_\\mathrm{c}$\")\n",
    "plt.plot(tm,Tu4-273.15,linewidth=LW1,color=Cb1,label=r\"$1.14\\cdot \\dot{V}_\\mathrm{c}$\")\n",
    "plt.plot(tm,Tu5-273.15,linewidth=LW1,color=Cr1,label=r\"$1.15\\cdot \\dot{V}_\\mathrm{c}$\")\n",
    "plt.xlabel(r\"time $t$ [min]\")\n",
    "plt.ylabel(r\"$T$ [${}^\\circ$C]\")\n",
    "plt.grid()\n",
    "plt.legend()\n",
    "plt.xlim(0,8)\n",
    "figfile = \"distributedCoolingReactorSensitivity.pdf\"\n",
    "plt.savefig(figpath+figfile)"
   ]
  }
 ],
 "metadata": {
  "anaconda-cloud": {},
  "kernelspec": {
   "display_name": "Python 2",
   "language": "python",
   "name": "python2"
  },
  "language_info": {
   "codemirror_mode": {
    "name": "ipython",
    "version": 2
   },
   "file_extension": ".py",
   "mimetype": "text/x-python",
   "name": "python",
   "nbconvert_exporter": "python",
   "pygments_lexer": "ipython2",
   "version": "2.7.13"
  }
 },
 "nbformat": 4,
 "nbformat_minor": 1
}
