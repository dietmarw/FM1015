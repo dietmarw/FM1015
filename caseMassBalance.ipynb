{
 "cells": [
  {
   "cell_type": "markdown",
   "metadata": {},
   "source": [
    "# DynMod, Mass Balance cases"
   ]
  },
  {
   "cell_type": "markdown",
   "metadata": {},
   "source": [
    "#### Bernt Lie, University College of Southeast Norway"
   ]
  },
  {
   "cell_type": "markdown",
   "metadata": {},
   "source": [
    "### Basic import and definitions"
   ]
  },
  {
   "cell_type": "code",
   "execution_count": 1,
   "metadata": {},
   "outputs": [],
   "source": [
    "from OMPython import ModelicaSystem\n",
    "import numpy as np\n",
    "import numpy.random as nr\n",
    "%matplotlib inline\n",
    "import matplotlib.pyplot as plt\n",
    "import pandas as pd\n",
    "LW1 = 2.5\n",
    "LW2 = LW1/2\n",
    "Cb1 = (0.3,0.3,1)\n",
    "Cb2 = (0.7,0.7,1)\n",
    "Cg1 = (0,0.6,0)\n",
    "Cg2 = (0.5,0.8,0.5)\n",
    "Cr1 = \"Red\"\n",
    "Cr2 = (1,0.5,0.5)\n",
    "LS1 = \"solid\"\n",
    "LS2 = \"dotted\"\n",
    "figpath = \"../figs/\""
   ]
  },
  {
   "cell_type": "markdown",
   "metadata": {},
   "source": [
    "### Water Tank without Input: AutoTank"
   ]
  },
  {
   "cell_type": "markdown",
   "metadata": {},
   "source": [
    "#### Modelica code, file AutoTank"
   ]
  },
  {
   "cell_type": "code",
   "execution_count": 2,
   "metadata": {},
   "outputs": [
    {
     "name": "stdout",
     "output_type": "stream",
     "text": [
      "Overwriting MassBalanceCases/AutoTank.mo\n"
     ]
    }
   ],
   "source": [
    "%%writefile MassBalanceCases/AutoTank.mo\n",
    "package AutoTank\n",
    "  // Package for simulating autonomous tank\n",
    "  // author: \tBernt Lie\n",
    "  //\t\t\tUniversity of Southeast Norway\n",
    "  //\t\t\tMay 11, 2017\n",
    "  //\n",
    "  model SimAutoTank\n",
    "    // Main Auto Tank model\n",
    "    // author: \tBernt Lie\n",
    "    //\t\t\tUniversity of Southeast Norway\n",
    "    //\t\t\tMay 11, 2017\n",
    "\t//\n",
    "\t// Parameters\n",
    "\tparameter Real rho = 1 \"Density of liquid, kg/L\";\n",
    "\tparameter Real A = 5 \"Cross sectional area of tank, dm2\";\n",
    "\tparameter Real K = 5 \"Valve constant, kg/s\";\n",
    "\tparameter Real h_s = 3 \"Scaling level, dm\";\n",
    "\t// Initial state parameters\n",
    "\tparameter Real h0 = 1.5 \"Initial tank level, dm\";\n",
    "\tparameter Real m0 = rho*h0*A \"Initial tank mass, kg\";\n",
    "    // Declaring variables\n",
    "\t// -- states\n",
    "\tReal m(start = m0, fixed=true) \"Mass in tank, kg\";\n",
    "\t// -- auxiliary variables\n",
    "\tReal V \"Tank liquid volume, L\";\n",
    "\tReal h \"Tank liquid level, dm\";\n",
    "\tReal md_e \"Effluent mass flow from tank, kg/s\";\n",
    "\t// -- input variables\n",
    "    \n",
    "\t// -- output variables\n",
    "\toutput Real _h;\n",
    "  // Initializating in steady state\n",
    "  /*\n",
    "  initial equation\n",
    "\tder(m) = 0;\n",
    "\t*/\n",
    "  // Equations constituting the model\n",
    "  equation\n",
    "\t// Algebraic equations\n",
    "\tm = rho*V;\n",
    "\tV = A*h;\n",
    "\tmd_e = K*sqrt(h/h_s);\n",
    "\t// md_e = max(K*sign(h)*sqrt(abs(h/h_s)),0);\n",
    "    // Differential equations\n",
    "\tder(m) = -md_e;\n",
    "\t// Outputs\n",
    "\t_h = h;\n",
    "  end SimAutoTank;\n",
    "  //\n",
    "  model SimAutoTank1\n",
    "    // Main Auto Tank model\n",
    "    // author: \tBernt Lie\n",
    "    //\t\t\tUniversity of Southeast Norway\n",
    "    //\t\t\tMay 11, 2017\n",
    "\t//\n",
    "\t// Parameters\n",
    "\tparameter Real rho = 1 \"Density of liquid, kg/L\";\n",
    "\tparameter Real A = 5 \"Cross sectional area of tank, dm2\";\n",
    "\tparameter Real K = 5 \"Valve constant, kg/s\";\n",
    "\tparameter Real h_s = 3 \"Scaling level, dm\";\n",
    "\t// Initial state parameters\n",
    "\tparameter Real h0 = 1.5 \"Initial tank level, dm\";\n",
    "\tparameter Real m0 = rho*h0*A \"Initial tank mass, kg\";\n",
    "    // Declaring variables\n",
    "\t// -- states\n",
    "\tReal m(start = m0, fixed=true) \"Mass in tank, kg\";\n",
    "\t// -- auxiliary variables\n",
    "\tReal V \"Tank liquid volume, L\";\n",
    "\tReal h \"Tank liquid level, dm\";\n",
    "\tReal md_e \"Effluent mass flow from tank, kg/s\";\n",
    "\t// -- input variables\n",
    "    \n",
    "\t// -- output variables\n",
    "\toutput Real _h;\n",
    "  // Initializating in steady state\n",
    "  /*\n",
    "  initial equation\n",
    "\tder(m) = 0;\n",
    "\t*/\n",
    "  // Equations constituting the model\n",
    "  equation\n",
    "\t// Algebraic equations\n",
    "\tm = rho*V;\n",
    "\tV = A*h;\n",
    "\t// md_e = K*sqrt(h/h_s);\n",
    "\tmd_e = max(K*sign(h)*sqrt(abs(h/h_s)),0);\n",
    "    // Differential equations\n",
    "\tder(m) = -md_e;\n",
    "\t// Outputs\n",
    "\t_h = h;\n",
    "  end SimAutoTank1;\n",
    "  // End package\n",
    "end AutoTank;"
   ]
  },
  {
   "cell_type": "markdown",
   "metadata": {},
   "source": [
    "#### Instantiating model from SimAutoTank"
   ]
  },
  {
   "cell_type": "code",
   "execution_count": 3,
   "metadata": {
    "scrolled": true
   },
   "outputs": [
    {
     "name": "stderr",
     "output_type": "stream",
     "text": [
      "2017-08-07 14:51:36,549 - OMCSession - INFO - OMC Server is up and running at file:///c:/users/bernt_~1/appdata/local/temp/openmodelica.objid.e4bd0e65726340ccb0bcd7ff4e5eeecc\n"
     ]
    }
   ],
   "source": [
    "tnk = ModelicaSystem(\"MassBalanceCases/AutoTank.mo\",\"AutoTank.SimAutoTank\")"
   ]
  },
  {
   "cell_type": "markdown",
   "metadata": {},
   "source": [
    "#### Checking model **quantities**"
   ]
  },
  {
   "cell_type": "code",
   "execution_count": 4,
   "metadata": {
    "collapsed": true
   },
   "outputs": [],
   "source": [
    "q = tnk.getQuantities()"
   ]
  },
  {
   "cell_type": "code",
   "execution_count": 5,
   "metadata": {},
   "outputs": [
    {
     "data": {
      "text/html": [
       "<div>\n",
       "<style>\n",
       "    .dataframe thead tr:only-child th {\n",
       "        text-align: right;\n",
       "    }\n",
       "\n",
       "    .dataframe thead th {\n",
       "        text-align: left;\n",
       "    }\n",
       "\n",
       "    .dataframe tbody tr th {\n",
       "        vertical-align: top;\n",
       "    }\n",
       "</style>\n",
       "<table border=\"1\" class=\"dataframe\">\n",
       "  <thead>\n",
       "    <tr style=\"text-align: right;\">\n",
       "      <th></th>\n",
       "      <th>Changeable</th>\n",
       "      <th>Description</th>\n",
       "      <th>Name</th>\n",
       "      <th>Value</th>\n",
       "      <th>Variability</th>\n",
       "      <th>alias</th>\n",
       "      <th>aliasvariable</th>\n",
       "    </tr>\n",
       "  </thead>\n",
       "  <tbody>\n",
       "    <tr>\n",
       "      <th>0</th>\n",
       "      <td>false</td>\n",
       "      <td>Mass in tank, kg</td>\n",
       "      <td>m</td>\n",
       "      <td>None</td>\n",
       "      <td>continuous</td>\n",
       "      <td>noAlias</td>\n",
       "      <td>None</td>\n",
       "    </tr>\n",
       "    <tr>\n",
       "      <th>1</th>\n",
       "      <td>false</td>\n",
       "      <td>Mass in tank, kg</td>\n",
       "      <td>der(m)</td>\n",
       "      <td>None</td>\n",
       "      <td>continuous</td>\n",
       "      <td>noAlias</td>\n",
       "      <td>None</td>\n",
       "    </tr>\n",
       "    <tr>\n",
       "      <th>2</th>\n",
       "      <td>false</td>\n",
       "      <td>Tank liquid volume, L</td>\n",
       "      <td>V</td>\n",
       "      <td>None</td>\n",
       "      <td>continuous</td>\n",
       "      <td>noAlias</td>\n",
       "      <td>None</td>\n",
       "    </tr>\n",
       "    <tr>\n",
       "      <th>3</th>\n",
       "      <td>false</td>\n",
       "      <td>None</td>\n",
       "      <td>_h</td>\n",
       "      <td>None</td>\n",
       "      <td>continuous</td>\n",
       "      <td>noAlias</td>\n",
       "      <td>None</td>\n",
       "    </tr>\n",
       "    <tr>\n",
       "      <th>4</th>\n",
       "      <td>false</td>\n",
       "      <td>Effluent mass flow from tank, kg/s</td>\n",
       "      <td>md_e</td>\n",
       "      <td>None</td>\n",
       "      <td>continuous</td>\n",
       "      <td>noAlias</td>\n",
       "      <td>None</td>\n",
       "    </tr>\n",
       "    <tr>\n",
       "      <th>5</th>\n",
       "      <td>true</td>\n",
       "      <td>Cross sectional area of tank, dm2</td>\n",
       "      <td>A</td>\n",
       "      <td>5.0</td>\n",
       "      <td>parameter</td>\n",
       "      <td>noAlias</td>\n",
       "      <td>None</td>\n",
       "    </tr>\n",
       "    <tr>\n",
       "      <th>6</th>\n",
       "      <td>true</td>\n",
       "      <td>Valve constant, kg/s</td>\n",
       "      <td>K</td>\n",
       "      <td>5.0</td>\n",
       "      <td>parameter</td>\n",
       "      <td>noAlias</td>\n",
       "      <td>None</td>\n",
       "    </tr>\n",
       "    <tr>\n",
       "      <th>7</th>\n",
       "      <td>true</td>\n",
       "      <td>Initial tank level, dm</td>\n",
       "      <td>h0</td>\n",
       "      <td>1.5</td>\n",
       "      <td>parameter</td>\n",
       "      <td>noAlias</td>\n",
       "      <td>None</td>\n",
       "    </tr>\n",
       "    <tr>\n",
       "      <th>8</th>\n",
       "      <td>true</td>\n",
       "      <td>Scaling level, dm</td>\n",
       "      <td>h_s</td>\n",
       "      <td>3.0</td>\n",
       "      <td>parameter</td>\n",
       "      <td>noAlias</td>\n",
       "      <td>None</td>\n",
       "    </tr>\n",
       "    <tr>\n",
       "      <th>9</th>\n",
       "      <td>false</td>\n",
       "      <td>Initial tank mass, kg</td>\n",
       "      <td>m0</td>\n",
       "      <td>None</td>\n",
       "      <td>parameter</td>\n",
       "      <td>noAlias</td>\n",
       "      <td>None</td>\n",
       "    </tr>\n",
       "    <tr>\n",
       "      <th>10</th>\n",
       "      <td>true</td>\n",
       "      <td>Density of liquid, kg/L</td>\n",
       "      <td>rho</td>\n",
       "      <td>1.0</td>\n",
       "      <td>parameter</td>\n",
       "      <td>noAlias</td>\n",
       "      <td>None</td>\n",
       "    </tr>\n",
       "    <tr>\n",
       "      <th>11</th>\n",
       "      <td>false</td>\n",
       "      <td>Tank liquid level, dm</td>\n",
       "      <td>h</td>\n",
       "      <td>None</td>\n",
       "      <td>continuous</td>\n",
       "      <td>alias</td>\n",
       "      <td>_h</td>\n",
       "    </tr>\n",
       "  </tbody>\n",
       "</table>\n",
       "</div>"
      ],
      "text/plain": [
       "   Changeable                         Description    Name Value Variability  \\\n",
       "0       false                    Mass in tank, kg       m  None  continuous   \n",
       "1       false                    Mass in tank, kg  der(m)  None  continuous   \n",
       "2       false               Tank liquid volume, L       V  None  continuous   \n",
       "3       false                                None      _h  None  continuous   \n",
       "4       false  Effluent mass flow from tank, kg/s    md_e  None  continuous   \n",
       "5        true   Cross sectional area of tank, dm2       A   5.0   parameter   \n",
       "6        true                Valve constant, kg/s       K   5.0   parameter   \n",
       "7        true              Initial tank level, dm      h0   1.5   parameter   \n",
       "8        true                   Scaling level, dm     h_s   3.0   parameter   \n",
       "9       false               Initial tank mass, kg      m0  None   parameter   \n",
       "10       true             Density of liquid, kg/L     rho   1.0   parameter   \n",
       "11      false               Tank liquid level, dm       h  None  continuous   \n",
       "\n",
       "      alias aliasvariable  \n",
       "0   noAlias          None  \n",
       "1   noAlias          None  \n",
       "2   noAlias          None  \n",
       "3   noAlias          None  \n",
       "4   noAlias          None  \n",
       "5   noAlias          None  \n",
       "6   noAlias          None  \n",
       "7   noAlias          None  \n",
       "8   noAlias          None  \n",
       "9   noAlias          None  \n",
       "10  noAlias          None  \n",
       "11    alias            _h  "
      ]
     },
     "execution_count": 5,
     "metadata": {},
     "output_type": "execute_result"
    }
   ],
   "source": [
    "pd.DataFrame(q)"
   ]
  },
  {
   "cell_type": "markdown",
   "metadata": {},
   "source": [
    "#### Checking inputs"
   ]
  },
  {
   "cell_type": "code",
   "execution_count": 6,
   "metadata": {},
   "outputs": [
    {
     "data": {
      "text/plain": [
       "{}"
      ]
     },
     "execution_count": 6,
     "metadata": {},
     "output_type": "execute_result"
    }
   ],
   "source": [
    "tnk.getInputs()"
   ]
  },
  {
   "cell_type": "markdown",
   "metadata": {},
   "source": [
    "-- as expected, there are no external inputs for model SimAutoTank!"
   ]
  },
  {
   "cell_type": "markdown",
   "metadata": {},
   "source": [
    "#### Checking and setting simulation options"
   ]
  },
  {
   "cell_type": "code",
   "execution_count": 7,
   "metadata": {
    "collapsed": true
   },
   "outputs": [],
   "source": [
    "sopt = tnk.getSimulationOptions()"
   ]
  },
  {
   "cell_type": "code",
   "execution_count": 8,
   "metadata": {},
   "outputs": [
    {
     "data": {
      "text/plain": [
       "dict"
      ]
     },
     "execution_count": 8,
     "metadata": {},
     "output_type": "execute_result"
    }
   ],
   "source": [
    "type(sopt)"
   ]
  },
  {
   "cell_type": "code",
   "execution_count": 9,
   "metadata": {},
   "outputs": [
    {
     "data": {
      "text/plain": [
       "{'solver': 'dassl',\n",
       " 'startTime': 0.0,\n",
       " 'stepSize': 0.002,\n",
       " 'stopTime': 1.0,\n",
       " 'tolerance': 1e-06}"
      ]
     },
     "execution_count": 9,
     "metadata": {},
     "output_type": "execute_result"
    }
   ],
   "source": [
    "sopt"
   ]
  },
  {
   "cell_type": "code",
   "execution_count": 10,
   "metadata": {
    "collapsed": true
   },
   "outputs": [],
   "source": [
    "tnk.setSimulationOptions(startTime=0,stopTime=5)"
   ]
  },
  {
   "cell_type": "markdown",
   "metadata": {},
   "source": [
    "#### Simulating water tank"
   ]
  },
  {
   "cell_type": "code",
   "execution_count": 11,
   "metadata": {},
   "outputs": [],
   "source": [
    "tnk.simulate()"
   ]
  },
  {
   "cell_type": "markdown",
   "metadata": {},
   "source": [
    "#### Checking available solutions"
   ]
  },
  {
   "cell_type": "code",
   "execution_count": 12,
   "metadata": {
    "collapsed": true
   },
   "outputs": [],
   "source": [
    "sol = tnk.getSolutions()"
   ]
  },
  {
   "cell_type": "code",
   "execution_count": 13,
   "metadata": {},
   "outputs": [
    {
     "data": {
      "text/plain": [
       "('A',\n",
       " 'K',\n",
       " 'V',\n",
       " '_h',\n",
       " 'der(m)',\n",
       " 'h',\n",
       " 'h0',\n",
       " 'h_s',\n",
       " 'm',\n",
       " 'm0',\n",
       " 'md_e',\n",
       " 'rho',\n",
       " 'time')"
      ]
     },
     "execution_count": 13,
     "metadata": {},
     "output_type": "execute_result"
    }
   ],
   "source": [
    "sol"
   ]
  },
  {
   "cell_type": "markdown",
   "metadata": {},
   "source": [
    "#### Extracting and plotting results"
   ]
  },
  {
   "cell_type": "code",
   "execution_count": 14,
   "metadata": {},
   "outputs": [],
   "source": [
    "tm,h = tnk.getSolutions(\"time\",\"_h\")"
   ]
  },
  {
   "cell_type": "code",
   "execution_count": 15,
   "metadata": {},
   "outputs": [
    {
     "data": {
      "image/png": "[encoded data removed]",
      "text/plain": [
       "<matplotlib.figure.Figure at 0xa97a978>"
      ]
     },
     "metadata": {},
     "output_type": "display_data"
    }
   ],
   "source": [
    "plt.plot(tm,h,linewidth=LW1,color=Cb1,label=r\"$h$\")\n",
    "plt.title(\"Auto tank level\")\n",
    "plt.xlabel(r\"time $t$ [s]\")\n",
    "plt.ylabel(r\"$h$ [dm]\")\n",
    "plt.grid()\n",
    "plt.xlim(0,5)\n",
    "figfile = \"autoTankSim-1.pdf\"\n",
    "plt.savefig(figpath+figfile)"
   ]
  },
  {
   "cell_type": "markdown",
   "metadata": {},
   "source": [
    "As is seen, the plot stops before 5 s has passed. Upon checking, there is an error message: \"stdout            | info    | model terminate | Simulation terminated by an assert at time: 4.2427\". The reason is that the level has become negative, and the code crashes."
   ]
  },
  {
   "cell_type": "markdown",
   "metadata": {},
   "source": [
    "#### Refining model to allow for possibility of negative level"
   ]
  },
  {
   "cell_type": "code",
   "execution_count": 16,
   "metadata": {},
   "outputs": [
    {
     "name": "stderr",
     "output_type": "stream",
     "text": [
      "2017-08-07 14:51:40,414 - OMCSession - INFO - OMC Server is up and running at file:///c:/users/bernt_~1/appdata/local/temp/openmodelica.objid.42b01a6fb1d146c59d02be1423376d91\n"
     ]
    }
   ],
   "source": [
    "tnk1 = ModelicaSystem(\"MassBalanceCases/AutoTank.mo\",\"AutoTank.SimAutoTank1\")"
   ]
  },
  {
   "cell_type": "code",
   "execution_count": 17,
   "metadata": {
    "collapsed": true
   },
   "outputs": [],
   "source": [
    "tnk1.setSimulationOptions(stopTime=5)\n",
    "tnk1.simulate()\n",
    "tm,h = tnk1.getSolutions(\"time\",\"_h\")"
   ]
  },
  {
   "cell_type": "code",
   "execution_count": 18,
   "metadata": {},
   "outputs": [
    {
     "data": {
      "image/png": "[encoded data removed]",
      "text/plain": [
       "<matplotlib.figure.Figure at 0x13a09940>"
      ]
     },
     "metadata": {},
     "output_type": "display_data"
    }
   ],
   "source": [
    "plt.plot(tm,h,linewidth=LW1,color=Cb1,label=r\"$h$\")\n",
    "plt.title(\"Auto tank level, refined\")\n",
    "plt.xlabel(r\"time $t$ [s]\")\n",
    "plt.ylabel(r\"$h$ [dm]\")\n",
    "plt.grid()\n",
    "plt.xlim(0,5)\n",
    "figfile = \"autoTankSim-2.pdf\"\n",
    "plt.savefig(figpath+figfile)"
   ]
  },
  {
   "cell_type": "markdown",
   "metadata": {},
   "source": [
    "### Water Tank **with** Input: DrivenTank"
   ]
  },
  {
   "cell_type": "markdown",
   "metadata": {},
   "source": [
    "#### Modelica code, file DrivenTank"
   ]
  },
  {
   "cell_type": "code",
   "execution_count": 19,
   "metadata": {},
   "outputs": [
    {
     "name": "stdout",
     "output_type": "stream",
     "text": [
      "Overwriting MassBalanceCases/DrivenTank.mo\n"
     ]
    }
   ],
   "source": [
    "%%writefile MassBalanceCases/DrivenTank.mo\n",
    "package DrivenTank\n",
    "  // Package for simulating driven tank\n",
    "  // author: \tBernt Lie\n",
    "  //\t\t\tUniversity of Southeast Norway\n",
    "  //\t\t\tAugust 26, 2015\n",
    "  //\t\t\tMay 11, 2017\n",
    "  //\n",
    "  model SimDrivenTank\n",
    "\t// Simulation of Driven Tank model\n",
    "\t// author:\tBernt Lie\n",
    "\t//\t\t\tUniversity of Southeast Norway\n",
    "\t//\t\t\tAugust 26, 2015\n",
    "\t//\t\t\tMay 11, 2017\n",
    "\t//\n",
    "\t// Instantiate model of *driven tank* (dt)\n",
    "\tModDrivenTank dt;\n",
    "\t// Declaring variables\n",
    "\t// -- inputs\n",
    "\tReal md_i \"Mass flow into tank\";\n",
    "\t// -- outputs\n",
    "\tReal _h \"Level in tank\";\n",
    "  // Equations\n",
    "  equation\n",
    "    // -- input\n",
    "\tmd_i = 2;\n",
    "\tdt.md_i = md_i;\n",
    "\t// -- output\n",
    "\t_h = dt.h;\n",
    "  end SimDrivenTank; \n",
    "  //\n",
    "  model SimStepDrivenTank\n",
    "\t// Simulation of Driven Tank model with step input\n",
    "\t// author:\tBernt Lie\n",
    "\t//\t\t\tUniversity of Southeast Norway\n",
    "\t//\t\t\tAugust 26, 2015\n",
    "\t//\t\t\tMay 11, 2017\n",
    "\t//\n",
    "\t// Instantiate model of *driven tank* (dt)\n",
    "\tModDrivenTank dt;\n",
    "\t// Declaring variables\n",
    "\t// -- inputs\n",
    "\tReal md_i \"Mass flow into tank\";\n",
    "\t// -- outputs\n",
    "\tReal _h \"Level in tank\";\n",
    "  // Initial equations\n",
    "  initial equation\n",
    "    der(dt.m) = 0;\n",
    "  // Equations\n",
    "  equation\n",
    "    // -- input\n",
    "\tmd_i = if time < 1 then 2 else 1.5;\n",
    "\tdt.md_i = md_i;\n",
    "\t// -- output\n",
    "\t_h = dt.h;\n",
    "  end SimStepDrivenTank; \n",
    "  //\n",
    "  // \n",
    "  model ModDrivenTank\n",
    "    // Main Driven Tank model\n",
    "    // author: \tBernt Lie\n",
    "    //\t\t\tUniversity of Southeast Norway\n",
    "    //\t\t\tAugust 26, 2015\n",
    "\t//\t\t\tMay 11, 2017\n",
    "\t//\n",
    "\t// Parameters\n",
    "\tparameter Real rho = 1 \"Density of liquid, kg/L\";\n",
    "\tparameter Real A = 5 \"Cross sectional area of tank, dm2\";\n",
    "\tparameter Real K = 5 \"Valve constant, kg/s\";\n",
    "\tparameter Real h_s = 3 \"Scaling level, dm\";\n",
    "\t// Initial state parameters\n",
    "\tparameter Real h0 = 1.5 \"Initial tank level, dm\";\n",
    "\tparameter Real m0 = rho*h0*A \"Initial tank mass, kg\";\n",
    "    // Declaring variables\n",
    "\t// -- states\n",
    "\tReal m(start = m0) \"Mass in tank, kg\";\n",
    "\t// -- auxiliary variables\n",
    "\tReal V \"Tank liquid volume, L\";\n",
    "\tReal h \"Tank liquid level, dm\";\n",
    "\tReal md_e \"Effluent mass flow rate from tank, kg/s\";\n",
    "\t// -- input variables\n",
    "    input Real md_i \"Influent mass flow rate to tank, kg/s\"; \n",
    "  // Equations constituting the model\n",
    "  equation\n",
    "\t// Algebraic equations\n",
    "\tm = rho*V;\n",
    "\tV = A*h;\n",
    "\tmd_e = K*sqrt(h/h_s);\n",
    "    // Differential equations\n",
    "\tder(m) = md_i - md_e;\n",
    "  end ModDrivenTank;\n",
    "  // End package\n",
    "end DrivenTank;"
   ]
  },
  {
   "cell_type": "markdown",
   "metadata": {},
   "source": [
    "#### Tank with constant input"
   ]
  },
  {
   "cell_type": "code",
   "execution_count": 20,
   "metadata": {},
   "outputs": [
    {
     "name": "stderr",
     "output_type": "stream",
     "text": [
      "2017-08-07 14:51:44,332 - OMCSession - INFO - OMC Server is up and running at file:///c:/users/bernt_~1/appdata/local/temp/openmodelica.objid.1a92b8e83db34724be61b2b99375d845\n"
     ]
    },
    {
     "name": "stdout",
     "output_type": "stream",
     "text": [
      "Expected end of text (at char 109), (line:2, col:42)\n"
     ]
    }
   ],
   "source": [
    "tnk2 = ModelicaSystem(\"MassBalanceCases/DrivenTank.mo\",\"DrivenTank.SimDrivenTank\")"
   ]
  },
  {
   "cell_type": "code",
   "execution_count": 21,
   "metadata": {},
   "outputs": [],
   "source": [
    "tnk2.setSimulationOptions(stopTime=15)\n",
    "tnk2.simulate()\n",
    "tm,h = tnk2.getSolutions(\"time\",\"_h\")"
   ]
  },
  {
   "cell_type": "code",
   "execution_count": 22,
   "metadata": {},
   "outputs": [
    {
     "name": "stderr",
     "output_type": "stream",
     "text": [
      "2017-08-07 14:51:50,999 - OMCSession - INFO - OMC Server is up and running at file:///c:/users/bernt_~1/appdata/local/temp/openmodelica.objid.ee928085119f46f3bb99d7b557a4b110\n"
     ]
    }
   ],
   "source": [
    "tnk3 = ModelicaSystem(\"MassBalanceCases/DrivenTank.mo\",\"DrivenTank.SimStepDrivenTank\")"
   ]
  },
  {
   "cell_type": "code",
   "execution_count": 23,
   "metadata": {
    "collapsed": true
   },
   "outputs": [],
   "source": [
    "tnk3.setSimulationOptions(stopTime=15)\n",
    "tnk3.simulate()\n",
    "tm1,h1,md_i = tnk3.getSolutions(\"time\",\"_h\",\"md_i\")"
   ]
  },
  {
   "cell_type": "code",
   "execution_count": 24,
   "metadata": {},
   "outputs": [
    {
     "data": {
      "image/png": "[encoded data removed]",
      "text/plain": [
       "<matplotlib.figure.Figure at 0x1341d748>"
      ]
     },
     "metadata": {},
     "output_type": "display_data"
    }
   ],
   "source": [
    "plt.plot(tm,h,linewidth=LW1,color=Cr1,label=r\"$h$\")\n",
    "plt.plot(tm1,h1,linewidth=LW1,color=Cb1,label=r\"$h_{\\mathrm{step}}$\")\n",
    "plt.plot(tm1,md_i,linewidth=LW1,color=Cg1,label=r\"$\\dot{m}_{\\mathrm{i}}$\")\n",
    "plt.title(r\"Driven tank, w & w/o step in $\\dot{m}_{\\mathrm{i}}$\")\n",
    "plt.xlabel(r\"time $t$ [s]\")\n",
    "plt.grid()\n",
    "plt.xlim(0,15)\n",
    "plt.legend()\n",
    "figfile = \"drivenTankSim.pdf\"\n",
    "plt.savefig(figpath+figfile)"
   ]
  },
  {
   "cell_type": "markdown",
   "metadata": {},
   "source": [
    "### Water Tank with variying area, with Input: DrivenFunnelTank"
   ]
  },
  {
   "cell_type": "markdown",
   "metadata": {},
   "source": [
    "#### Modelica code, file DrivenFunnelTank"
   ]
  },
  {
   "cell_type": "code",
   "execution_count": 25,
   "metadata": {},
   "outputs": [
    {
     "name": "stdout",
     "output_type": "stream",
     "text": [
      "Overwriting MassBalanceCases/DrivenFunnelTank.mo\n"
     ]
    }
   ],
   "source": [
    "%%writefile MassBalanceCases/DrivenFunnelTank.mo\n",
    "package DrivenFunnelTank\n",
    "  // Package for simulating driven tank\n",
    "  // author: \tBernt Lie\n",
    "  //\t\t\tUniversity of Southeast Norway\n",
    "  //\t\t\tAugust 26, 2015\n",
    "  //\t\t\tMay 11, 2017\n",
    "  //\n",
    "  model SimDrivenFunnelTank\n",
    "\t// Simulation of Driven Funnel Tank model\n",
    "\t// author:\tBernt Lie\n",
    "\t//\t\t\tUniversity of Southeast Norway\n",
    "\t//\t\t\tAugust 26, 2015\n",
    "\t//\t\t\tMay 11, 2017\n",
    "\t//\n",
    "\t// Instantiate model\n",
    "\tModDrivenFunnelTank dft;\n",
    "\t// Declaring variables\n",
    "\t// -- inputs\n",
    "\tReal md_i \"Mass flow into tank\";\n",
    "\t// -- outputs\n",
    "\tReal _h \"Level in tank\";\n",
    "  // Equations\n",
    "  equation\n",
    "    // -- input\n",
    "\tmd_i = 2;\n",
    "\tdft.md_i = md_i;\n",
    "\t// -- output\n",
    "\t_h = dft.h;\n",
    "  end SimDrivenFunnelTank; \n",
    "  //\n",
    "  model SimStepDrivenFunnelTank\n",
    "\t// Simulation of Driven Funnel Tank model with step input\n",
    "\t// author:\tBernt Lie\n",
    "\t//\t\t\tUniversity of Southeast Norway\n",
    "\t//\t\t\tAugust 26, 2015\n",
    "\t//\t\t\tMay 11, 2017\n",
    "\t//\n",
    "\t// Instantiate model\n",
    "\tModDrivenFunnelTank dft;\n",
    "\t// Declaring variables\n",
    "\t// -- inputs\n",
    "\tReal md_i \"Mass flow into tank\";\n",
    "\t// -- outputs\n",
    "\tReal _h \"Level in tank\";\n",
    "  // Initial equations\n",
    "  initial equation\n",
    "    der(dft.h) = 0;\n",
    "  // Equations\n",
    "  equation\n",
    "    // -- input\n",
    "\tmd_i = if time < 1 then 2 else 1.5;\n",
    "\tdft.md_i = md_i;\n",
    "\t// -- output\n",
    "\t_h = dft.h;\n",
    "  end SimStepDrivenFunnelTank; \n",
    "  //\n",
    "  // \n",
    "  model ModDrivenFunnelTank\n",
    "    // Main Driven Funnel Tank model\n",
    "    // author: \tBernt Lie\n",
    "    //\t\t\tUniversity of Southeast Norway\n",
    "    //\t\t\tAugust 26, 2015\n",
    "\t//\t\t\tMay 11, 2017\n",
    "\t//\n",
    "\t// Constants\n",
    "\tconstant Real PI = 3.1415926535 \"pi, --\";\n",
    "\t// Parameters\n",
    "\tparameter Real rho = 1 \"Density of liquid, kg/L\";\n",
    "\tparameter Real R_s = sqrt(15/PI) \"Scaling radius, dm\";\n",
    "\tparameter Real h_s = 3 \"Scaling level, dm\";\n",
    "\tparameter Real K = 5 \"Valve constant, kg/s\";\n",
    "\t// Initial state parameters\n",
    "\tparameter Real h0 = 1.5 \"Initial tank level, dm\";\n",
    "    // Declaring variables\n",
    "\t// -- states\n",
    "\tReal h(start = h0) \"Level in funnel tank, m\";\n",
    "\t// -- auxiliary variables\n",
    "\tReal A \"Tank liquid surface area, dm2\";\n",
    "\tReal r \"Radius of surface area, dm\";\n",
    "\tReal md_e \"Effluent mass flow rate from tank, kg/s\";\n",
    "\t// -- input variables\n",
    "    input Real md_i \"Influent mass flow rate to tank, kg/s\"; \n",
    "  // Equations constituting the model\n",
    "  equation\n",
    "\t// Algebraic equations\n",
    "\tA = PI*r^2;\n",
    "\tr = R_s/h_s*h;\n",
    "\tmd_e = K*sqrt(h/h_s);\n",
    "    // Differential equations\n",
    "\trho*A*der(h) = md_i - md_e;\n",
    "  end ModDrivenFunnelTank;\n",
    "  // End package\n",
    "end DrivenFunnelTank;"
   ]
  },
  {
   "cell_type": "code",
   "execution_count": 26,
   "metadata": {},
   "outputs": [
    {
     "name": "stderr",
     "output_type": "stream",
     "text": [
      "2017-08-07 14:52:00,134 - OMCSession - INFO - OMC Server is up and running at file:///c:/users/bernt_~1/appdata/local/temp/openmodelica.objid.5d0972a2e5884f1ba856e4c33b8c9337\n"
     ]
    },
    {
     "name": "stdout",
     "output_type": "stream",
     "text": [
      "Expected end of text (at char 111), (line:2, col:44)\n"
     ]
    }
   ],
   "source": [
    "tnk4 = ModelicaSystem(\"MassBalanceCases/DrivenFunnelTank.mo\",\"DrivenFunnelTank.SimDrivenFunnelTank\")"
   ]
  },
  {
   "cell_type": "code",
   "execution_count": 27,
   "metadata": {
    "collapsed": true
   },
   "outputs": [],
   "source": [
    "tnk4.setSimulationOptions(stopTime=15)\n",
    "tnk4.simulate()\n",
    "tm,h = tnk4.getSolutions(\"time\",\"_h\")"
   ]
  },
  {
   "cell_type": "code",
   "execution_count": 28,
   "metadata": {},
   "outputs": [
    {
     "name": "stderr",
     "output_type": "stream",
     "text": [
      "2017-08-07 14:52:06,443 - OMCSession - INFO - OMC Server is up and running at file:///c:/users/bernt_~1/appdata/local/temp/openmodelica.objid.9a66ad49a4c94de49a0350cf9d2e0a10\n"
     ]
    }
   ],
   "source": [
    "tnk5 = ModelicaSystem(\"MassBalanceCases/DrivenFunnelTank.mo\",\"DrivenFunnelTank.SimStepDrivenFunnelTank\")"
   ]
  },
  {
   "cell_type": "code",
   "execution_count": 29,
   "metadata": {
    "collapsed": true
   },
   "outputs": [],
   "source": [
    "tnk5.setSimulationOptions(stopTime=15)\n",
    "tnk5.simulate()\n",
    "tm1,h1,md_i = tnk5.getSolutions(\"time\",\"_h\",\"md_i\")"
   ]
  },
  {
   "cell_type": "code",
   "execution_count": 30,
   "metadata": {},
   "outputs": [
    {
     "data": {
      "image/png": "[encoded data removed]",
      "text/plain": [
       "<matplotlib.figure.Figure at 0x29cfa198>"
      ]
     },
     "metadata": {},
     "output_type": "display_data"
    }
   ],
   "source": [
    "plt.plot(tm,h,linewidth=LW1,color=Cr1,label=r\"$h$\")\n",
    "plt.plot(tm1,h1,linewidth=LW1,color=Cb1,label=r\"$h_{\\mathrm{step}}$\")\n",
    "plt.plot(tm1,md_i,linewidth=LW1,color=Cg1,label=r\"$\\dot{m}_{\\mathrm{i}}$\")\n",
    "plt.title(r\"Driven funnel tank, w & w/o step in $\\dot{m}_{\\mathrm{i}}$\")\n",
    "plt.xlabel(r\"time $t$ [s]\")\n",
    "plt.grid()\n",
    "plt.xlim(0,15)\n",
    "plt.legend()\n",
    "figfile = \"drivenFunnelTankSim.pdf\"\n",
    "plt.savefig(figpath+figfile)"
   ]
  },
  {
   "cell_type": "markdown",
   "metadata": {},
   "source": [
    "### Pressure in single gas tank"
   ]
  },
  {
   "cell_type": "markdown",
   "metadata": {},
   "source": [
    "#### Modelica code, file GasTank"
   ]
  },
  {
   "cell_type": "code",
   "execution_count": 31,
   "metadata": {},
   "outputs": [
    {
     "name": "stdout",
     "output_type": "stream",
     "text": [
      "Overwriting MassBalanceCases/GasTank.mo\n"
     ]
    }
   ],
   "source": [
    "%%writefile MassBalanceCases/GasTank.mo\n",
    "package GasTank\n",
    "  // Package for simulating gas tank\n",
    "  // author: \tBernt Lie\n",
    "  //\t\t\tUniversity of Southeast Norway\n",
    "  //\t\t\tAugust 27, 2015\n",
    "  //\t\t\tMay 11, 2017\n",
    "  //\n",
    "  model SimGasTank\n",
    "\t// Simulation of Gas Tank model\n",
    "\t// author:\tBernt Lie\n",
    "\t//\t\t\tUniversity of Southeast Norway\n",
    "\t//\t\t\tAugust 27, 2015\n",
    "\t//\t\t\tMay 11, 2017\n",
    "\t//\n",
    "\t// Instantiate model\n",
    "\tModGasTank gt;\n",
    "\t// Declaring variables\n",
    "\t// -- inputs\n",
    "\tReal p_i \"Upstream (inlet) pressure, Pa\";\n",
    "\t// -- outputs\n",
    "\tReal _p \"Pressure in tank, Pa\";\n",
    "  // Equations\n",
    "  equation\n",
    "    // -- input\n",
    "\tp_i = 10*gt.p_a;\n",
    "\tgt.p_i = p_i;\n",
    "\t// -- output\n",
    "\t_p = gt.p;\n",
    "  end SimGasTank; \n",
    "  //\n",
    "  model SimStepGasTank\n",
    "\t// Simulation of Gas Tank model with step input\n",
    "\t// author:\tBernt Lie\n",
    "\t//\t\t\tUniversity of Southeast Norway\n",
    "\t//\t\t\tAugust 27, 2015\n",
    "\t//\t\t\tMay 11, 2017\n",
    "\t//\n",
    "\t// Instantiate model\n",
    "\tModGasTank gt;\n",
    "\t// Declaring variables\n",
    "\t// -- inputs\n",
    "\tReal p_i \"Upstream (inlet) pressure, Pa\";\n",
    "\t// -- outputs\n",
    "\tReal _p \"Pressure in tank, Pa\";\n",
    "  // Initial equations\n",
    "  initial equation\n",
    "    der(gt.m) = 0;\n",
    "  // Equations\n",
    "  equation\n",
    "    // -- input\n",
    "\tp_i = if time < 25 then 10*gt.p_a else 12*gt.p_a;\n",
    "\tgt.p_i = p_i;\n",
    "\t// -- output\n",
    "\t_p = gt.p;\n",
    "  end SimStepGasTank; \n",
    "  //\n",
    "  // \n",
    "  model ModGasTank\n",
    "    // Main Gas Tank model\n",
    "    // author: \tBernt Lie\n",
    "    //\t\t\tUniversity of Southeast Norway\n",
    "    //\t\t\tAugust 27, 2015\n",
    "\t//\t\t\tMay 11, 2017\n",
    "\t//\n",
    "\t// Constants\n",
    "\tconstant Real R = 8.31 \"Ideal gas constant, J/(K.mol)\";\n",
    "\t// Parameters\n",
    "\tparameter Real M = 28 \"Molar mass of gas, g/mol\";\n",
    "\tparameter Real p_a = 1.03e5 \"Ambient pressure, Pa\";\n",
    "\tparameter Real V = 50e-3 \"Tank volume, m3\";\n",
    "\tparameter Real K_i = 3 \"Input valve constant, kg/s\";\n",
    "\tparameter Real K_e = 3 \"Output valve constant, kg/s\";\n",
    "\tparameter Real T = 300 \"Temperature, K\";\n",
    "\t// Initial state parameters\n",
    "\tparameter Real p0 = 1.2*p_a \"Initial tank pressure, Pa\";\n",
    "\tparameter Real m0 = p0*V*M/(R*T) \"Initial tank mass, g\";\n",
    "    // Declaring variables\n",
    "\t// -- states\n",
    "\tReal m(start = m0) \"Mass in tank, g\";\n",
    "\t// -- auxiliary variables\n",
    "\tReal n \"Mole in tank, mol\";\n",
    "\tReal p \"Pressure in tank, Pa\";\n",
    "\tReal dp_i \"Influent valve pressure drop, Pa\";\n",
    "\tReal dp_e \"Effluent valve pressure drop, Pa\";\n",
    "\tReal md_i \"Influent mass flow rate to tank, g/s\";\n",
    "\tReal md_e \"Effluent mass flow rate from tank, g/s\";\n",
    "\t// -- input variables\n",
    "    input Real p_i \"Inlet pressure to tank, Pa\";\n",
    "  // Equations constituting the model\n",
    "  equation\n",
    "\t// Algebraic equations\n",
    "\tm = n*M;\n",
    "\tp*V = n*R*T;\n",
    "\tdp_i = p_i - p;\n",
    "\tdp_e = p - p_a;\n",
    "\tmd_i = K_i*sqrt(dp_i/p_a);\n",
    "\tmd_e = K_e*sqrt(dp_e/p_a);\n",
    "    // Differential equations\n",
    "\tder(m) = md_i - md_e;\n",
    "  end ModGasTank;\n",
    "  // End package\n",
    "end GasTank;"
   ]
  },
  {
   "cell_type": "markdown",
   "metadata": {},
   "source": [
    "#### Instantiating model from SimAutoTank"
   ]
  },
  {
   "cell_type": "code",
   "execution_count": 32,
   "metadata": {},
   "outputs": [
    {
     "name": "stderr",
     "output_type": "stream",
     "text": [
      "2017-08-07 14:52:15,423 - OMCSession - INFO - OMC Server is up and running at file:///c:/users/bernt_~1/appdata/local/temp/openmodelica.objid.68729aff6cf143fd856cc7ea6c6ad2d8\n"
     ]
    },
    {
     "name": "stdout",
     "output_type": "stream",
     "text": [
      "Expected end of text (at char 109), (line:2, col:42)\n"
     ]
    }
   ],
   "source": [
    "tnk = ModelicaSystem(\"MassBalanceCases/GasTank.mo\",\"GasTank.SimGasTank\")"
   ]
  },
  {
   "cell_type": "code",
   "execution_count": 33,
   "metadata": {
    "collapsed": true
   },
   "outputs": [],
   "source": [
    "tnk.setSimulationOptions(stopTime=150,stepSize=1)\n",
    "tnk.simulate()\n",
    "tm,p = tnk.getSolutions(\"time\",\"_p\")"
   ]
  },
  {
   "cell_type": "code",
   "execution_count": 34,
   "metadata": {},
   "outputs": [
    {
     "name": "stderr",
     "output_type": "stream",
     "text": [
      "2017-08-07 14:52:17,552 - OMCSession - INFO - OMC Server is up and running at file:///c:/users/bernt_~1/appdata/local/temp/openmodelica.objid.32f44a54cce54c6891ce77ccbdfb6a9b\n"
     ]
    },
    {
     "name": "stdout",
     "output_type": "stream",
     "text": [
      "Expected end of text (at char 129), (line:2, col:31)\n"
     ]
    }
   ],
   "source": [
    "tnk1 = ModelicaSystem(\"MassBalanceCases/GasTank.mo\",\"GasTank.SimStepGasTank\")\n",
    "tnk1.setSimulationOptions(stopTime=150,stepSize=1)\n",
    "tnk1.simulate()\n",
    "tm1,p1,p_i = tnk1.getSolutions(\"time\",\"_p\",\"p_i\")"
   ]
  },
  {
   "cell_type": "code",
   "execution_count": 35,
   "metadata": {},
   "outputs": [
    {
     "data": {
      "image/png": "[encoded data removed]",
      "text/plain": [
       "<matplotlib.figure.Figure at 0x133e7240>"
      ]
     },
     "metadata": {},
     "output_type": "display_data"
    }
   ],
   "source": [
    "plt.plot(tm,p,linewidth=LW1,color=Cr1,label=r\"$p$\")\n",
    "plt.plot(tm1,p1,linewidth=LW1,color=Cb1,label=r\"$p_{\\mathrm{step}}$\")\n",
    "plt.plot(tm1,p_i,linewidth=LW1,color=Cg1,label=r\"$\\dot{m}_{\\mathrm{i}}$\")\n",
    "plt.title(r\"Gas Tank, w & w/o step in $p_{\\mathrm{i}}$\")\n",
    "plt.xlabel(r\"time $t$ [s]\")\n",
    "plt.grid()\n",
    "plt.xlim(0,150)\n",
    "plt.legend()\n",
    "figfile = \"gasTankSim.pdf\"\n",
    "plt.savefig(figpath+figfile)"
   ]
  },
  {
   "cell_type": "markdown",
   "metadata": {},
   "source": [
    "### Pressure in Gas pipe"
   ]
  },
  {
   "cell_type": "markdown",
   "metadata": {},
   "source": [
    "#### Modelica code, file GasPipe"
   ]
  },
  {
   "cell_type": "code",
   "execution_count": 36,
   "metadata": {},
   "outputs": [
    {
     "name": "stdout",
     "output_type": "stream",
     "text": [
      "Writing MassBalanceCases/GasPipe.mo\n"
     ]
    }
   ],
   "source": [
    "%%writefile MassBalanceCases/GasPipe.mo\n",
    "package GasPipe\n",
    "  // Package for simulating gas pipe\n",
    "  // author:    Bernt Lie\n",
    "  //            University of Southeast Norway\n",
    "  //            August 27, 2015\n",
    "  //\t\t\tMay 11, 2017\n",
    "  //\n",
    "  model SimStepCompareGasPipe\n",
    "    // Simulation and comparison of Gas Pipe model\n",
    "    // author:  Bernt Lie\n",
    "    //          University of Southeast Norway\n",
    "    //          August 27, 2015\n",
    "\t//\t\t\tMay 11, 2017\n",
    "    //\n",
    "    // Instantiate model\n",
    "    ModGasPipe gp10(N=10), gp30(N=30), gp90(N=90), gp300(N=300);\n",
    "    // Declaring variables\n",
    "    // -- inputs\n",
    "    Real p_0 \"Upstream (inlet) pressure, Pa\";\n",
    "    Real v \"Velocity through pipe, m/s\";\n",
    "    // -- outputs\n",
    "    output Real _pL10, _pL30, _pL90, _pL300 \"Pressure at pipe end, Pa\";\n",
    "    output Real _mdL10, _mdL30, _mdL90, _mdL300 \"Mass flow rate at exit, kg/s\";\n",
    "  // Initial equations\n",
    "  initial equation\n",
    "    der(gp10.m[:]) = zeros(gp10.N);\n",
    "    der(gp30.m[:]) = zeros(gp30.N);\n",
    "    der(gp90.m[:]) = zeros(gp90.N);\n",
    "    der(gp300.m[:]) = zeros(gp300.N);\n",
    "  // Equations\n",
    "  equation\n",
    "    // -- input\n",
    "    p_0 = if time < 25 then 10*gp10.p_a else 12*gp10.p_a;\n",
    "    gp10.p_0 = p_0;\n",
    "    gp30.p_0 = p_0;\n",
    "    gp90.p_0 = p_0;\n",
    "    gp300.p_0 = p_0;\n",
    "    v = 2e-2 \"Velocity, m/s\";\n",
    "    gp10.v = v;\n",
    "    gp30.v = v;\n",
    "    gp90.v = v;\n",
    "    gp300.v = v;\n",
    "    // -- output\n",
    "    _pL10 = gp10.p[gp10.N];\n",
    "    _pL30 = gp30.p[gp30.N];\n",
    "    _pL90 = gp90.p[gp90.N];\n",
    "    _pL300 = gp300.p[gp300.N];\n",
    "    _mdL10 = gp10.md[gp10.N];\n",
    "    _mdL30 = gp30.md[gp30.N];\n",
    "    _mdL90 = gp90.md[gp90.N];\n",
    "    _mdL300 = gp300.md[gp300.N];\n",
    "  end SimStepCompareGasPipe;\n",
    "  //\n",
    "  model SimGasPipe\n",
    "    // Simulation of Gas Pipe model\n",
    "    // author:  Bernt Lie\n",
    "    //          University of Southeast Norway\n",
    "    //          August 27, 2015\n",
    "\t//\t\t\tMay 11, 2017\n",
    "    //\n",
    "    // Instantiate model\n",
    "    ModGasPipe gp;\n",
    "    // Declaring variables\n",
    "    // -- inputs\n",
    "    Real p_0 \"Upstream (inlet) pressure, Pa\";\n",
    "    Real v \"Velocity through tube, m/s\";\n",
    "    // -- outputs\n",
    "    output Real _pL \"Pressure at tube end, Pa\";\n",
    "    output Real _mdL \"Mass flow rate at exit, kg/s\";\n",
    "  // Equations\n",
    "  equation\n",
    "    // -- input\n",
    "    p_0 = 10*gp.p_a;\n",
    "    gp.p_0 = p_0;\n",
    "    v = 2e-1 \"Velocity, m/s\";\n",
    "    gp.v = v;\n",
    "    // -- output\n",
    "    _pL = gp.p[gp.N];\n",
    "    _mdL = gp.md[gp.N];\n",
    "  end SimGasPipe; \n",
    "  //\n",
    "  model SimStepGasPipe\n",
    "    // Simulation of Gas Pipe model with step input\n",
    "    // author:  Bernt Lie\n",
    "    //          University of Southeast Norway\n",
    "    //          August 27, 2015\n",
    "\t//\t\t\tMay 11, 2017\n",
    "    //\n",
    "    // Instantiate model\n",
    "    ModGasPipe gp;\n",
    "    // Declaring variables\n",
    "    // -- inputs\n",
    "    Real p_0 \"Upstream (inlet) pressure, Pa\";\n",
    "    Real v \"Velocity through pipe, m/s\";\n",
    "    // -- outputs\n",
    "    output Real _pL \"Pressure at tube end, Pa\";\n",
    "    output Real _mdL \"Mass flow rate at exit, kg/s\";\n",
    "  // Initial equations\n",
    "  initial equation\n",
    "    der(gp.m[:]) = zeros(gp.N);\n",
    "  // Equations\n",
    "  equation\n",
    "    // -- input\n",
    "    p_0 = if time < 25 then 10*gp.p_a else 12*gp.p_a;\n",
    "    gp.p_0 = p_0;\n",
    "    v = 2e-2 \"Velocity, m/s\";\n",
    "    gp.v = v;\n",
    "    // -- output\n",
    "    _pL = gp.p[gp.N];\n",
    "    _mdL = gp.md[gp.N];\n",
    "  end SimStepGasPipe; \n",
    "  //\n",
    "  // \n",
    "  model ModGasPipe\n",
    "    // Underlying Gas Pipe model\n",
    "    // author:  Bernt Lie\n",
    "    //          University of Southeast Norway\n",
    "    //          August 27, 2015\n",
    "\t//\t\t\tMay 11, 2017\n",
    "    //\n",
    "    // Constants\n",
    "    constant Real R = 8.31 \"Ideal gas constant, J/(K.mol)\";\n",
    "    // Parameters\n",
    "    parameter Real M = 28 \"Molar mass of gas, g/mol\";\n",
    "    parameter Real p_a = 1.03e5 \"Ambient pressure, Pa\";\n",
    "    parameter Real A = 5e-2 \"Pipe cross sectional area, m2\";\n",
    "    parameter Real L = 10e-1 \"Pipe length, m\";\n",
    "    parameter Integer N = 10 \"Number of slices in pipe, -\";\n",
    "    parameter Real dx = L/N \"Slice length/thickness, m\";\n",
    "    parameter Real T = 300 \"Temperature, K\";\n",
    "    parameter Real V = dx*A \"Slice volume, m3\";\n",
    "    // Initial state parameters\n",
    "    parameter Real p0 = 1.2*p_a \"Initial time slice pressure, Pa\";\n",
    "    parameter Real m0 = p0*dx*A*M/(R*T) \"Initial time slice mass, g\";\n",
    "    // Declaring variables\n",
    "    // -- states\n",
    "    Real m[N](each start = m0) \"Mass in each slice, g\";\n",
    "    // -- auxiliary variables\n",
    "    Real p[N] \"Pressure in slices, Pa\";\n",
    "    Real n[N] \"Mole in slices, mol\";\n",
    "    Real md[N] \"Mass flow rate in slices, m/s\";\n",
    "    Real md_0 \"Mass flow rate at inlet, m/s\";\n",
    "    Real Vd \"Volumetric flow rate, m3/s\";\n",
    "    // -- input variables\n",
    "    input Real p_0 \"Inlet pressure at x=0, Pa\"; \n",
    "    input Real v \"Velocity through pipe, m/s\";\n",
    "  // Equations constituting the model\n",
    "  equation\n",
    "    // Algebraic equations\n",
    "    p[:]*V = n[:]*R*T;\n",
    "    m[:] = n[:]*M;\n",
    "    Vd = v*A;\n",
    "    md[:] = Vd*M*p[:]/(R*T);\n",
    "    md_0 = Vd*M*p_0/(R*T);\n",
    "    // Differential equations\n",
    "    der(m[1]) = md_0 - md[1]; \n",
    "    der(m[2:end]) = md[1:end-1] - md[2:end];\n",
    "  end ModGasPipe;\n",
    "  // End package\n",
    "end GasPipe;"
   ]
  },
  {
   "cell_type": "markdown",
   "metadata": {},
   "source": [
    "#### Instantiating model from SimGasPipe"
   ]
  },
  {
   "cell_type": "code",
   "execution_count": 37,
   "metadata": {},
   "outputs": [
    {
     "name": "stderr",
     "output_type": "stream",
     "text": [
      "2017-08-07 14:52:20,153 - OMCSession - INFO - OMC Server is up and running at file:///c:/users/bernt_~1/appdata/local/temp/openmodelica.objid.4e4f12c2c8584df8977490b12590d06b\n"
     ]
    },
    {
     "name": "stdout",
     "output_type": "stream",
     "text": [
      "Expected end of text (at char 114), (line:2, col:46)\n"
     ]
    }
   ],
   "source": [
    "tnk = ModelicaSystem(\"MassBalanceCases/GasPipe.mo\",\"GasPipe.SimGasPipe\")"
   ]
  },
  {
   "cell_type": "code",
   "execution_count": 38,
   "metadata": {
    "collapsed": true
   },
   "outputs": [],
   "source": [
    "tnk.setSimulationOptions(stopTime=150,stepSize=1)\n",
    "tnk.simulate()"
   ]
  },
  {
   "cell_type": "code",
   "execution_count": 39,
   "metadata": {
    "collapsed": true
   },
   "outputs": [],
   "source": [
    "SolVar = tnk.getSolutions()"
   ]
  },
  {
   "cell_type": "code",
   "execution_count": 40,
   "metadata": {},
   "outputs": [
    {
     "data": {
      "text/plain": [
       "('_mdL',\n",
       " '_pL',\n",
       " 'der(gp.m[10])',\n",
       " 'der(gp.m[1])',\n",
       " 'der(gp.m[2])',\n",
       " 'der(gp.m[3])',\n",
       " 'der(gp.m[4])',\n",
       " 'der(gp.m[5])',\n",
       " 'der(gp.m[6])',\n",
       " 'der(gp.m[7])',\n",
       " 'der(gp.m[8])',\n",
       " 'der(gp.m[9])',\n",
       " 'gp.A',\n",
       " 'gp.L',\n",
       " 'gp.M',\n",
       " 'gp.N',\n",
       " 'gp.T',\n",
       " 'gp.V',\n",
       " 'gp.Vd',\n",
       " 'gp.dx',\n",
       " 'gp.m0',\n",
       " 'gp.m[10]',\n",
       " 'gp.m[1]',\n",
       " 'gp.m[2]',\n",
       " 'gp.m[3]',\n",
       " 'gp.m[4]',\n",
       " 'gp.m[5]',\n",
       " 'gp.m[6]',\n",
       " 'gp.m[7]',\n",
       " 'gp.m[8]',\n",
       " 'gp.m[9]',\n",
       " 'gp.md[10]',\n",
       " 'gp.md[1]',\n",
       " 'gp.md[2]',\n",
       " 'gp.md[3]',\n",
       " 'gp.md[4]',\n",
       " 'gp.md[5]',\n",
       " 'gp.md[6]',\n",
       " 'gp.md[7]',\n",
       " 'gp.md[8]',\n",
       " 'gp.md[9]',\n",
       " 'gp.md_0',\n",
       " 'gp.n[10]',\n",
       " 'gp.n[1]',\n",
       " 'gp.n[2]',\n",
       " 'gp.n[3]',\n",
       " 'gp.n[4]',\n",
       " 'gp.n[5]',\n",
       " 'gp.n[6]',\n",
       " 'gp.n[7]',\n",
       " 'gp.n[8]',\n",
       " 'gp.n[9]',\n",
       " 'gp.p0',\n",
       " 'gp.p[10]',\n",
       " 'gp.p[1]',\n",
       " 'gp.p[2]',\n",
       " 'gp.p[3]',\n",
       " 'gp.p[4]',\n",
       " 'gp.p[5]',\n",
       " 'gp.p[6]',\n",
       " 'gp.p[7]',\n",
       " 'gp.p[8]',\n",
       " 'gp.p[9]',\n",
       " 'gp.p_0',\n",
       " 'gp.p_a',\n",
       " 'gp.v',\n",
       " 'p_0',\n",
       " 'time',\n",
       " 'v')"
      ]
     },
     "execution_count": 40,
     "metadata": {},
     "output_type": "execute_result"
    }
   ],
   "source": [
    "SolVar"
   ]
  },
  {
   "cell_type": "code",
   "execution_count": 41,
   "metadata": {
    "collapsed": true
   },
   "outputs": [],
   "source": [
    "tm,p_0,p0,p1,p2,p3 = tnk.getSolutions(\"time\",\"p_0\",\"gp.p0\",\"gp.p[1]\",\"gp.p[2]\",\"gp.p[3]\")\n",
    "p4,p5,p6,p7 = tnk.getSolutions(\"gp.p[4]\",\"gp.p[5]\",\"gp.p[6]\",\"gp.p[7]\")\n",
    "p8,p9,pL = tnk.getSolutions(\"gp.p[8]\",\"gp.p[9]\",\"_pL\")"
   ]
  },
  {
   "cell_type": "code",
   "execution_count": 42,
   "metadata": {},
   "outputs": [
    {
     "data": {
      "image/png": "[encoded data removed]",
      "text/plain": [
       "<matplotlib.figure.Figure at 0x13a09f60>"
      ]
     },
     "metadata": {},
     "output_type": "display_data"
    }
   ],
   "source": [
    "plt.plot(tm,p_0,linewidth=LW1,color=Cg1,label=r\"$p(x=0,t)$\")\n",
    "plt.plot(tm,pL,linewidth=LW1,color=Cb1,label=r\"$p_L$\")\n",
    "plt.plot(tm,p1,linewidth=LW2,color=Cr1,label=r\"$p_1$\")\n",
    "plt.plot(tm,p2,linewidth=LW2,color=Cg2,linestyle=LS2,label=r\"$p_2$\")\n",
    "plt.plot(tm,p3,linewidth=LW2,color=Cb2,linestyle=LS2,label=r\"$p_3$\")\n",
    "plt.plot(tm,p4,linewidth=LW2,color=Cr2,linestyle=LS2,label=r\"$p_4$\")\n",
    "plt.plot(tm,p5,linewidth=LW2,color=Cg2,linestyle=LS2,label=r\"$p_5$\")\n",
    "plt.plot(tm,p6,linewidth=LW2,color=Cb2,linestyle=LS2,label=r\"$p_6$\")\n",
    "plt.plot(tm,p7,linewidth=LW2,color=Cr2,linestyle=LS2,label=r\"$p_7$\")\n",
    "plt.plot(tm,p8,linewidth=LW2,color=Cg2,linestyle=LS2,label=r\"$p_8$\")\n",
    "plt.plot(tm,p9,linewidth=LW2,color=Cb2,linestyle=LS2,label=r\"$p_9$\")\n",
    "plt.title(r\"Gas Pipe, pressure distribution\")\n",
    "plt.xlabel(r\"time $t$ [s]\")\n",
    "plt.grid()\n",
    "plt.xlim(0,150)\n",
    "plt.legend()\n",
    "figfile = \"gasPipeSim-1.pdf\"\n",
    "plt.savefig(figpath+figfile)"
   ]
  },
  {
   "cell_type": "code",
   "execution_count": 43,
   "metadata": {},
   "outputs": [
    {
     "name": "stderr",
     "output_type": "stream",
     "text": [
      "2017-08-07 14:52:23,431 - OMCSession - INFO - OMC Server is up and running at file:///c:/users/bernt_~1/appdata/local/temp/openmodelica.objid.fd776dcf2757466c93b120123a007062\n"
     ]
    }
   ],
   "source": [
    "tnk = ModelicaSystem(\"MassBalanceCases/GasPipe.mo\",\"GasPipe.SimStepGasPipe\")"
   ]
  },
  {
   "cell_type": "code",
   "execution_count": 44,
   "metadata": {
    "collapsed": true
   },
   "outputs": [],
   "source": [
    "tnk.setSimulationOptions(stopTime=150,stepSize=1)\n",
    "tnk.simulate()"
   ]
  },
  {
   "cell_type": "code",
   "execution_count": 45,
   "metadata": {
    "collapsed": true
   },
   "outputs": [],
   "source": [
    "tm,p_0,p0,p1,p2,p3 = tnk.getSolutions(\"time\",\"p_0\",\"gp.p0\",\"gp.p[1]\",\"gp.p[2]\",\"gp.p[3]\")\n",
    "p4,p5,p6,p7 = tnk.getSolutions(\"gp.p[4]\",\"gp.p[5]\",\"gp.p[6]\",\"gp.p[7]\")\n",
    "p8,p9,pL = tnk.getSolutions(\"gp.p[8]\",\"gp.p[9]\",\"_pL\")"
   ]
  },
  {
   "cell_type": "code",
   "execution_count": 46,
   "metadata": {},
   "outputs": [
    {
     "data": {
      "image/png": "[encoded data removed]",
      "text/plain": [
       "<matplotlib.figure.Figure at 0x130255f8>"
      ]
     },
     "metadata": {},
     "output_type": "display_data"
    }
   ],
   "source": [
    "plt.plot(tm,p_0,linewidth=LW1,color=Cg1,label=r\"$p(x=0,t)$\")\n",
    "plt.plot(tm,pL,linewidth=LW1,color=Cb1,label=r\"$p_L$\")\n",
    "plt.plot(tm,p1,linewidth=LW2,color=Cr1,label=r\"$p_1$\")\n",
    "plt.plot(tm,p2,linewidth=LW2,color=Cg2,linestyle=LS2,label=r\"$p_2$\")\n",
    "plt.plot(tm,p3,linewidth=LW2,color=Cb2,linestyle=LS2,label=r\"$p_3$\")\n",
    "plt.plot(tm,p4,linewidth=LW2,color=Cr2,linestyle=LS2,label=r\"$p_4$\")\n",
    "plt.plot(tm,p5,linewidth=LW2,color=Cg2,linestyle=LS2,label=r\"$p_5$\")\n",
    "plt.plot(tm,p6,linewidth=LW2,color=Cb2,linestyle=LS2,label=r\"$p_6$\")\n",
    "plt.plot(tm,p7,linewidth=LW2,color=Cr2,linestyle=LS2,label=r\"$p_7$\")\n",
    "plt.plot(tm,p8,linewidth=LW2,color=Cg2,linestyle=LS2,label=r\"$p_8$\")\n",
    "plt.plot(tm,p9,linewidth=LW2,color=Cb2,linestyle=LS2,label=r\"$p_9$\")\n",
    "plt.title(r\"Gas Pipe w/ step in input pressure, pressure distribution\")\n",
    "plt.xlabel(r\"time $t$ [s]\")\n",
    "plt.grid()\n",
    "plt.xlim(0,150)\n",
    "plt.legend()\n",
    "figfile = \"gasPipeSim-2.pdf\"\n",
    "plt.savefig(figpath+figfile)"
   ]
  },
  {
   "cell_type": "code",
   "execution_count": 47,
   "metadata": {},
   "outputs": [
    {
     "name": "stderr",
     "output_type": "stream",
     "text": [
      "2017-08-07 14:52:26,786 - OMCSession - INFO - OMC Server is up and running at file:///c:/users/bernt_~1/appdata/local/temp/openmodelica.objid.cea364884c424f4b8093ef125b1a0ca8\n"
     ]
    }
   ],
   "source": [
    "tnk = ModelicaSystem(\"MassBalanceCases/GasPipe.mo\",\"GasPipe.SimStepCompareGasPipe\")"
   ]
  },
  {
   "cell_type": "code",
   "execution_count": 48,
   "metadata": {
    "collapsed": true
   },
   "outputs": [],
   "source": [
    "tnk.setSimulationOptions(stopTime=150,stepSize=1)\n",
    "tnk.simulate()"
   ]
  },
  {
   "cell_type": "code",
   "execution_count": 49,
   "metadata": {
    "collapsed": true
   },
   "outputs": [],
   "source": [
    "tm,pL10,pL30,pL90,pL300 = tnk.getSolutions(\"time\",\"_pL10\",\"_pL30\",\"_pL90\",\"_pL300\")"
   ]
  },
  {
   "cell_type": "code",
   "execution_count": 50,
   "metadata": {},
   "outputs": [
    {
     "data": {
      "image/png": "[encoded data removed]",
      "text/plain": [
       "<matplotlib.figure.Figure at 0x130595f8>"
      ]
     },
     "metadata": {},
     "output_type": "display_data"
    }
   ],
   "source": [
    "plt.plot(tm,pL10,linewidth=LW1,color=Cr1,label=r\"$p_{L,N=10}$\")\n",
    "plt.plot(tm,pL30,linewidth=LW1,color=Cg1,label=r\"$p_{L,N=30}$\")\n",
    "plt.plot(tm,pL90,linewidth=LW1,color=Cr2,label=r\"$p_{L,N=90}$\")\n",
    "plt.plot(tm,pL300,linewidth=LW1,color=Cb1,label=r\"$p_{L,N=300}$\")\n",
    "plt.title(r\"Gas Pipe: $p_L$ depending on $N$\")\n",
    "plt.xlabel(r\"time $t$ [s]\")\n",
    "plt.grid()\n",
    "plt.xlim(0,150)\n",
    "plt.legend()\n",
    "figfile = \"gasPipeSim-3.pdf\"\n",
    "plt.savefig(figpath+figfile)"
   ]
  }
 ],
 "metadata": {
  "anaconda-cloud": {},
  "kernelspec": {
   "display_name": "Python 2",
   "language": "python",
   "name": "python2"
  },
  "language_info": {
   "codemirror_mode": {
    "name": "ipython",
    "version": 2
   },
   "file_extension": ".py",
   "mimetype": "text/x-python",
   "name": "python",
   "nbconvert_exporter": "python",
   "pygments_lexer": "ipython2",
   "version": "2.7.13"
  }
 },
 "nbformat": 4,
 "nbformat_minor": 2
}
